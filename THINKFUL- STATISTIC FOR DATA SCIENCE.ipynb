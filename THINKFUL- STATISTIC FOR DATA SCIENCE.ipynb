{
 "cells": [
  {
   "cell_type": "code",
   "execution_count": 29,
   "metadata": {},
   "outputs": [
    {
     "data": {
      "text/plain": [
       "'C:\\\\Users\\\\catan'"
      ]
     },
     "execution_count": 29,
     "metadata": {},
     "output_type": "execute_result"
    }
   ],
   "source": [
    "#print walking directory\n",
    "pwd"
   ]
  },
  {
   "cell_type": "code",
   "execution_count": null,
   "metadata": {},
   "outputs": [],
   "source": []
  },
  {
   "cell_type": "markdown",
   "metadata": {},
   "source": [
    "### Drill - Describing Data"
   ]
  },
  {
   "cell_type": "markdown",
   "metadata": {},
   "source": [
    "1. Greg was 14, Marcia was 12, Peter was 11, Jan was 10, Bobby was 8, and Cindy was 6 when they started playing the Brady kids on The Brady Bunch. Cousin Oliver was 8 years old when he joined the show. What are the mean, median, and mode of the kids' ages when they first appeared on the show? What are the variance, standard deviation, and standard error?\n",
    "\n",
    "2. Using these estimates, if you had to choose only one estimate of central tendency and one estimate of variance to describe the data, which would you pick and why?\n",
    "\n",
    "3. Next, Cindy has a birthday. Update your estimates- what changed, and what didn't?\n",
    "\n",
    "4. Nobody likes Cousin Oliver. Maybe the network should have used an even younger actor. Replace Cousin Oliver with 1-year-old Jessica, then recalculate again. Does this change your choice of central tendency or variance estimation methods?\n",
    "\n",
    "5. On the 50th anniversary of The Brady Bunch, four different magazines asked their readers whether they were fans of the show. The answers were: TV Guide 20% fans Entertainment Weekly 23% fans Pop Culture Today 17% fans SciPhi Phanatic 5% fans\n",
    "\n",
    "6. Based on these numbers, what percentage of adult Americans would you estimate were Brady Bunch fans on the 50th anniversary of the show?"
   ]
  },
  {
   "cell_type": "code",
   "execution_count": 25,
   "metadata": {},
   "outputs": [
    {
     "name": "stdout",
     "output_type": "stream",
     "text": [
      "mean of age:  9.857142857142858\n",
      "median of age:  10.0\n",
      "variance of age:  6.408163265306122\n",
      "std. deviation of age:  2.531435020952764\n",
      "standard error of age:  1.0334540197243194\n",
      "Mode is ages: 8\n"
     ]
    }
   ],
   "source": [
    "# 1 \n",
    "import numpy as np\n",
    "ages =[14,12,11,10,8,6,8]\n",
    "\n",
    "def statistic(ages):\n",
    "    print(\"mean of age: \",np.mean(ages))\n",
    "    print(\"median of age: \",np.median(ages))\n",
    "    print(\"variance of age: \",np.var(ages))\n",
    "    print(\"std. deviation of age: \",np.std(ages))\n",
    "    print(\"standard error of age: \",np.std(ages)/np.sqrt(len(ages)-1))\n",
    "    \n",
    "statistic(ages)\n",
    "print(\"Mode is ages: 8\")"
   ]
  },
  {
   "cell_type": "code",
   "execution_count": null,
   "metadata": {},
   "outputs": [],
   "source": [
    "# 2\n",
    "#We can choose mean or standard deviation as mean and median are close in value."
   ]
  },
  {
   "cell_type": "code",
   "execution_count": 26,
   "metadata": {},
   "outputs": [
    {
     "name": "stdout",
     "output_type": "stream",
     "text": [
      "mean:  10.0\n",
      "median:  10.0\n",
      "variance:  5.428571428571429\n",
      "std. deviation : 2.32992949004287\n",
      "standard error : 0.951189731211342\n",
      "Mode is 8\n"
     ]
    }
   ],
   "source": [
    "#3\n",
    "ages2 =[14,12,11,10,8,7,1]\n",
    "statistic(ages3)\n",
    "print(\"There is no mode\")\n",
    "  \n",
    "statistic(ages2)\n",
    "print(\"Mode is 8\")\n",
    "\n",
    "# median & mode didn't change. \n",
    "# mean, variance, standard deviation, and standard error change a little.  "
   ]
  },
  {
   "cell_type": "code",
   "execution_count": 27,
   "metadata": {},
   "outputs": [
    {
     "name": "stdout",
     "output_type": "stream",
     "text": [
      "mean:  9.0\n",
      "median:  10.0\n",
      "variance:  15.428571428571429\n",
      "std. deviation : 3.927922024247863\n",
      "standard error : 1.6035674514745466\n",
      "There is no mode\n"
     ]
    }
   ],
   "source": [
    "# 4\n",
    "ages3 =[14,12,11,10,8,7,1]\n",
    "statistic(ages3)\n",
    "print(\"There is no mode\")\n",
    "\n",
    "#use median, mean diverge due to outlier 1"
   ]
  },
  {
   "cell_type": "code",
   "execution_count": null,
   "metadata": {},
   "outputs": [],
   "source": [
    "# Question no. 5&6\n",
    "# (.20+.23+.17)/3 = .20 0r 20% approximately\n",
    "# SciPhi Fanatic is a special interest magazine for scifi\n",
    "# whereas the others are more general and representa better sample\n",
    "# so we average those three\n"
   ]
  },
  {
   "cell_type": "markdown",
   "metadata": {},
   "source": [
    "## Basic Probability Drill Exercise"
   ]
  },
  {
   "cell_type": "markdown",
   "metadata": {},
   "source": [
    "#### See Statistic statistic handbook (NIST “Engineering Statistics Handbook” https://www.itl.nist.gov/div898/handbook/eda/section3/eda3666.htm)"
   ]
  },
  {
   "cell_type": "markdown",
   "metadata": {},
   "source": [
    "Now it’s time to compute some probabilities. Keep track of your work in a Google document or markdown file that you can share with your mentor.\n",
    "\n",
    "1. Calculate the probability of flipping a balanced coin four times and getting each pattern: HTTH, HHHH and TTHH.\n",
    "\n",
    "2.If a list of people has 24 women and 21 men, then the probability of choosing a man from the list is 21/45. What is the probability of not choosing a man?\n",
    "\n",
    "3.The probability that Bernice will travel by plane sometime in the next year is 10%. The probability of a plane crash at any time is .005%. What is the probability that Bernice will be in a plane crash sometime in the next year?\n",
    "\n",
    "4.A data scientist wants to study the behavior of users on the company website. Each time a user clicks on a link on the website, there is a 5% chance that the user will be asked to complete a short survey about their behavior on the website. The data scientist uses the survey data to conclude that, on average, users spend 15 minutes surfing the company website before moving on to other things. What is wrong with this conclusion?\n",
    "Discuss your answer to each of these questions with your mentor."
   ]
  },
  {
   "cell_type": "markdown",
   "metadata": {},
   "source": [
    "1. Calculate the probability of flipping a balanced coin four times and getting each pattern: HTTH, HHHH and TTHH."
   ]
  },
  {
   "cell_type": "markdown",
   "metadata": {},
   "source": [
    "The answer to a, b, and c is the same: .5*.5*.5*.5=.0625 , because the patterns are ordered"
   ]
  },
  {
   "cell_type": "markdown",
   "metadata": {},
   "source": [
    "2.If a list of people has 24 women and 21 men, then the probability of choosing a man from the list is 21/45. What is the probability of not choosing a man?\n",
    "\n",
    "24/45\n"
   ]
  },
  {
   "cell_type": "markdown",
   "metadata": {},
   "source": [
    "3.The probability that Bernice will travel by plane sometime in the next year is 10%. The probability of a plane crash at any time is .005%. What is the probability that Bernice will be in a plane crash sometime in the next year?\n",
    "\n",
    "P=0.10 * 0.005= .0005"
   ]
  },
  {
   "cell_type": "markdown",
   "metadata": {},
   "source": [
    "4.A data scientist wants to study the behavior of users on the company website. Each time a user clicks on a link on the website, there is a 5% chance that the user will be asked to complete a short survey about their behavior on the website. The data scientist uses the survey data to conclude that, on average, users spend 15 minutes surfing the company website before moving on to other things. What is wrong with this conclusion?\n",
    "\n",
    "-People who surf longer are likely to click more links, increasing the odds of getting a survey"
   ]
  },
  {
   "cell_type": "code",
   "execution_count": null,
   "metadata": {},
   "outputs": [],
   "source": [
    "P(A | B) = P(B | A) * P(A) / P(B)\n",
    "\n",
    "OR\n",
    "\n",
    "P(A | B) = P(B | A) * P(A) / [P(A)*P(B|A) + P(A~)*P(B|A~)]"
   ]
  },
  {
   "cell_type": "code",
   "execution_count": 28,
   "metadata": {},
   "outputs": [],
   "source": [
    "#P(Infected| Positive Test) = P(Positive Test| Infected) * P(Infected) / P(Positive Test)\n",
    "\n",
    "= .9999 * .000001/(.000001*.9999 + .999999*.0001) = .0099 or .99%"
   ]
  },
  {
   "cell_type": "markdown",
   "metadata": {},
   "source": [
    "### Drill exercises on Bayes' Rule "
   ]
  },
  {
   "cell_type": "markdown",
   "metadata": {},
   "source": [
    "A diagnostic test has a 98% probability of giving a positive result when applied to a person suffering from Thripshaw's Disease, and 10% probability of giving a (false) positive when applied to a non-sufferer. It is estimated that 0.5 % of the population are sufferers. Suppose that the test is now administered to a person whose disease status is unknown. Calculate the probability that the test will:\n",
    "\n",
    "    Be positive\n",
    "    Correctly diagnose a sufferer of Thripshaw's\n",
    "    Correctly identify a non-sufferer of Thripshaw's\n",
    "    Misclassify the person"
   ]
  },
  {
   "cell_type": "code",
   "execution_count": null,
   "metadata": {},
   "outputs": [],
   "source": [
    "Be positive= .98*.005 + .1*.995 = .1044\n",
    "Correctly diagnose a sufferer of Thripshaw’s= .98\n",
    "Correctly identify a non-sufferer of Thripshaw’s = .9\n",
    "Misclassify the person= 1-(.98*.005 + .9*.995)=.0996"
   ]
  },
  {
   "cell_type": "markdown",
   "metadata": {},
   "source": [
    "### Evaluating Data Sources"
   ]
  },
  {
   "cell_type": "markdown",
   "metadata": {},
   "source": [
    "In each of the scenarios, find possible shortcomings of the theoretical or actual data sources to answer the given question. What could be done to either adjust the analysis or reframe the question so that you can answer it accurately?\n",
    "\n",
    "Data Source: Amsterdam availability data scraped from AirBnB on December 24th. Question: What are the popular neighborhoods in Amsterdam?\n",
    "\n",
    "Data Source: Mental health services use on September 12, 2001 in San Francisco, CA and New York City, NY. Question: How do patterns of mental health service use vary between cities?\n",
    "\n",
    "Data Source: Armenian Pub Survey. Question: What are the most common reasons Armenians visit local pubs?\n",
    "\n",
    "Write up your answers and submit a link below."
   ]
  },
  {
   "cell_type": "markdown",
   "metadata": {},
   "source": [
    "Amsterdam availability data scraped from AirBnB on December 24th:\n",
    "\n",
    "Christmastime will bias availability in two ways- more AirBnBs may be taken due to vacationers, or fewer AirBnBs may be on offer because people don’t want to share their homes over the holidays. Choose a sampling period that doesn’t include a major holiday, or reframe the question to focus on popular neighborhoods during major holidays.\n",
    "\n",
    "*Mental health services use on September 12, 2001 in San Francisco, CA and New York City, NY: Given the terrorist attack on NYC the day before, patterns of mental health services use are likely to be very different in the two cities-- even if they were pretty similar on September 10, 2001. Reframe the question to mental health use in the aftermath of a nearby vs distant crisis, perhaps.\n",
    "\n",
    "*Armenian Pub Survey: Respondents are all university students. Reframe to ‘university students’ reasons to visit pubs.’"
   ]
  },
  {
   "cell_type": "markdown",
   "metadata": {},
   "source": [
    "### Beware of Monty Hall problem"
   ]
  },
  {
   "cell_type": "markdown",
   "metadata": {},
   "source": [
    "Most people come to the conclusion that switching does not matter because there are two unopened doors and one car and that it is a 50/50 choice. This would be true if the host opens a door randomly, but that is not the case; the door opened depends on the player's initial choice, so the assumption of independence does not hold. Before the host opens a door there is a \n",
    "1\n",
    "/\n",
    "3\n",
    " probability the car is behind each door. If the car is behind door 1 the host can open either door 2 or door 3, so the probability the car is behind door 1 AND the host opens door 3 is \n",
    "1\n",
    "/\n",
    "3\n",
    " * \n",
    "1\n",
    "/\n",
    "2\n",
    " = \n",
    "1\n",
    "/\n",
    "6\n",
    ". If the car is behind door 2 (and the player has picked door 1) the host must open door 3, so the probability the car is behind door 2 AND the host opens door 3 is \n",
    "1\n",
    "/\n",
    "3\n",
    " * 1 = \n",
    "1\n",
    "/\n",
    "3\n",
    ". These are the only cases where the host opens door 3, so if the player has picked door 1 and the host opens door 3 the car is twice as likely to be behind door 2. The key is that if the car is behind door 2 the host must open door 3, but if the car is behind door 1 the host can open either door."
   ]
  },
  {
   "cell_type": "markdown",
   "metadata": {},
   "source": [
    "### The Normal Distribution and the Central Limit Theorem\n"
   ]
  },
  {
   "cell_type": "code",
   "execution_count": 3,
   "metadata": {},
   "outputs": [],
   "source": [
    "import numpy as np\n",
    "import pandas as pd\n",
    "import matplotlib.pyplot as plt\n",
    "%matplotlib inline"
   ]
  },
  {
   "cell_type": "code",
   "execution_count": 5,
   "metadata": {},
   "outputs": [
    {
     "data": {
      "image/png": "[encoded data removed]",
      "text/plain": [
       "<Figure size 432x288 with 1 Axes>"
      ]
     },
     "metadata": {
      "needs_background": "light"
     },
     "output_type": "display_data"
    }
   ],
   "source": [
    "# Making a standard normally distributed variable with 1000 observations, a mean of 0, and \n",
    "# a standard deviation of 1, and putting it in a data frame.\n",
    "\n",
    "mean = 0\n",
    "sd = 1\n",
    "n = 1000\n",
    "\n",
    "df = pd.DataFrame({'rand': np.random.normal(mean, sd, 1000)})\n",
    "\n",
    "# Plotting the variables in the data frame (here, just the variable \"rand\") as a histogram.\n",
    "df.hist()\n",
    "\n",
    "# Inline printing the histogram\n",
    "plt.show()\n",
    "\n"
   ]
  },
  {
   "cell_type": "markdown",
   "metadata": {},
   "source": [
    "#### Let’s try a QQ plot to check if data is normally distributed:"
   ]
  },
  {
   "cell_type": "code",
   "execution_count": 7,
   "metadata": {},
   "outputs": [],
   "source": [
    "import numpy as np\n",
    "import pandas as pd\n",
    "import matplotlib.pyplot as plt\n",
    "%matplotlib inline"
   ]
  },
  {
   "cell_type": "code",
   "execution_count": 70,
   "metadata": {},
   "outputs": [],
   "source": [
    "# Making two variables.\n",
    "\n",
    "rand1 = np.random.normal(50, 300, 1000)\n",
    "rand2 = np.random.poisson(1, 1000)\n",
    "\n",
    "# Sorting the values in ascending order.\n",
    "\n",
    "rand1.sort()\n",
    "rand2.sort()\n",
    "\n",
    "# Making a standard normally distributed variable with 1000 observations,\n",
    "# a mean of 0, and standard deviation of 1 that we will use as our “comparison.”\n",
    "\n",
    "norm = np.random.normal(0, 1, 1000)\n",
    "\n",
    "# Sorting the values in ascending order.\n",
    "\n",
    "norm.sort()"
   ]
  },
  {
   "cell_type": "code",
   "execution_count": 9,
   "metadata": {},
   "outputs": [
    {
     "data": {
      "image/png": "[encoded data removed]",
      "text/plain": [
       "<Figure size 432x288 with 1 Axes>"
      ]
     },
     "metadata": {
      "needs_background": "light"
     },
     "output_type": "display_data"
    }
   ],
   "source": [
    "# Plotting the variable rand1 against norm in qqplots.\n",
    "\n",
    "plt.plot(norm, rand1, 'o')\n",
    "plt.show()"
   ]
  },
  {
   "cell_type": "code",
   "execution_count": 10,
   "metadata": {},
   "outputs": [
    {
     "data": {
      "text/plain": [
       "<function matplotlib.pyplot.show(*args, **kw)>"
      ]
     },
     "execution_count": 10,
     "metadata": {},
     "output_type": "execute_result"
    },
    {
     "data": {
      "image/png": "[encoded data removed]",
      "text/plain": [
       "<Figure size 432x288 with 1 Axes>"
      ]
     },
     "metadata": {
      "needs_background": "light"
     },
     "output_type": "display_data"
    }
   ],
   "source": [
    "# Plotting the variable rand2 against norm in qqplots.\n",
    "\n",
    "plt.plot(norm, rand2, 'x')\n",
    "plt.show"
   ]
  },
  {
   "cell_type": "markdown",
   "metadata": {},
   "source": [
    "##### When data are not normal, the mean and standard deviation are no longer accurate or informative summaries. Let's make histograms of rand1 and rand2, then compute descriptive statistics to see how well they match up."
   ]
  },
  {
   "cell_type": "code",
   "execution_count": 72,
   "metadata": {},
   "outputs": [
    {
     "data": {
      "image/png": "[encoded data removed]",
      "text/plain": [
       "<Figure size 432x288 with 1 Axes>"
      ]
     },
     "metadata": {
      "needs_background": "light"
     },
     "output_type": "display_data"
    }
   ],
   "source": [
    "#Plot a histogram for rand1.\n",
    "plt.hist(rand1, bins = 20, color = 'c')\n",
    "\n",
    "#Add a vertical line at the mean\n",
    "plt.axvline(rand1.mean(), color = 'b', linestyle = 'solid', linewidth= 2)\n",
    "\n",
    "#Add a vertical line at one standard deviation above the mean.\n",
    "plt.axvline(rand1.mean()+rand1.std(), color = 'b', linestyle = 'dashed', linewidth= 2)\n",
    "\n",
    "#Add a vertical line at the standard deviation below the mean.\n",
    "plt.axvline(rand1.mean()-rand1.std(), color = 'b', linestyle = 'dashed', linewidth= 2)\n",
    "\n",
    "#Print the Histogram\n",
    "plt.show()\n",
    "\n",
    "\n",
    "\n"
   ]
  },
  {
   "cell_type": "code",
   "execution_count": 73,
   "metadata": {},
   "outputs": [
    {
     "name": "stdout",
     "output_type": "stream",
     "text": [
      "54.40093058262691\n",
      "295.25705319541646\n"
     ]
    }
   ],
   "source": [
    "print(rand1.mean())\n",
    "print(rand1.std())"
   ]
  },
  {
   "cell_type": "code",
   "execution_count": 13,
   "metadata": {
    "scrolled": true
   },
   "outputs": [
    {
     "data": {
      "image/png": "[encoded data removed]",
      "text/plain": [
       "<Figure size 432x288 with 1 Axes>"
      ]
     },
     "metadata": {
      "needs_background": "light"
     },
     "output_type": "display_data"
    }
   ],
   "source": [
    "# Plot the same histogram for rand2.\n",
    "\n",
    "plt.hist(rand2, bins=20, color = 'c')\n",
    "\n",
    "# Add a vertical line at the mean.\n",
    "\n",
    "plt.axvline(rand2.mean(), color = 'b', linestyle= 'solid', linewidth= 2)\n",
    "\n",
    "# Add a vertical line at one standard deviation above the mean.\n",
    "\n",
    "plt.axvline(rand2.mean() + rand2.std(), color= 'b', linestyle= 'dashed', linewidth= 2)\n",
    "\n",
    "#Add a vertical line at one standard deviation below the mean.\n",
    "\n",
    "plt.axvline(rand2.mean() - rand2.std(), color= 'b', linestyle= 'dashed', linewidth= 2)\n",
    "\n",
    "# Print the histogram.\n",
    "\n",
    "plt.show()"
   ]
  },
  {
   "cell_type": "markdown",
   "metadata": {},
   "source": [
    "Because rand1 is normal, the mean is placed where the data clusters, with approximately 50% of the data falling on either side, and approximately 67% of the data falling within one standard deviation of the mean. For rand2, the mean is still placed where the data clusters, but the cluster is not centered, and the standard deviation does not encompass the same amount of data on each side of the mean. Put another way, for rand2 the mean is no longer a measure of \"central\" tendency, as it does not fall in the center, and the standard deviation no longer describes how much variance there is. Asymmetric probability distributions are described as \"skewed.\""
   ]
  },
  {
   "cell_type": "markdown",
   "metadata": {},
   "source": [
    "##### Other Distribution"
   ]
  },
  {
   "cell_type": "code",
   "execution_count": null,
   "metadata": {},
   "outputs": [],
   "source": [
    "import numpy as np\n",
    "import pandas as pd\n",
    "import matplotlib.pyplot as plt\n",
    "%matplotlib inline"
   ]
  },
  {
   "cell_type": "code",
   "execution_count": 14,
   "metadata": {},
   "outputs": [
    {
     "data": {
      "image/png": "[encoded data removed]",
      "text/plain": [
       "<Figure size 432x288 with 1 Axes>"
      ]
     },
     "metadata": {
      "needs_background": "light"
     },
     "output_type": "display_data"
    }
   ],
   "source": [
    "#Generate a bernoulli distribution with p = 0.5\n",
    "bernoulli = np.random.binomial(1, 0.5, 1000)\n",
    "\n",
    "#Plot a histogram.\n",
    "plt.hist(bernoulli)\n",
    "\n",
    "#Print the histogram\n",
    "plt.show()"
   ]
  },
  {
   "cell_type": "code",
   "execution_count": 15,
   "metadata": {},
   "outputs": [
    {
     "data": {
      "image/png": "[encoded data removed]",
      "text/plain": [
       "<Figure size 432x288 with 1 Axes>"
      ]
     },
     "metadata": {
      "needs_background": "light"
     },
     "output_type": "display_data"
    }
   ],
   "source": [
    "#Generate a binomial distribution with n=20 and p= 0.5\n",
    "binomial = np.random.binomial(20, 0.5, 1000)\n",
    "\n",
    "#Plot a histogram\n",
    "plt.hist(binomial)\n",
    "\n",
    "#Print the histogram\n",
    "plt.show()"
   ]
  },
  {
   "cell_type": "code",
   "execution_count": 16,
   "metadata": {},
   "outputs": [
    {
     "data": {
      "image/png": "[encoded data removed]",
      "text/plain": [
       "<Figure size 432x288 with 1 Axes>"
      ]
     },
     "metadata": {
      "needs_background": "light"
     },
     "output_type": "display_data"
    }
   ],
   "source": [
    "#Generate a gamma distribution with shape= 5 and scale = 1\n",
    "gamma = np.random.gamma(5, 1, 1000)#5 is the shape, 1 is the scale\n",
    "\n",
    "#Plot a histogram\n",
    "plt.hist(gamma)\n",
    "\n",
    "#Print the histogram\n",
    "plt.show()"
   ]
  },
  {
   "cell_type": "code",
   "execution_count": 17,
   "metadata": {},
   "outputs": [
    {
     "data": {
      "image/png": "[encoded data removed]",
      "text/plain": [
       "<Figure size 432x288 with 1 Axes>"
      ]
     },
     "metadata": {
      "needs_background": "light"
     },
     "output_type": "display_data"
    }
   ],
   "source": [
    "#Generate a Poisson distribution witn Lambda = 3\n",
    "poisson = np.random.poisson(3, 1000)\n",
    "\n",
    "#Plot a histogram\n",
    "plt.hist(poisson)\n",
    "\n",
    "#Print the histogram\n",
    "plt.show()"
   ]
  },
  {
   "cell_type": "markdown",
   "metadata": {},
   "source": [
    "##### Distributions can also be conditional. Consider an ecommerce site. For all of the customers, we have a distribution of the amount that they have spent on the website. It may look something like this:"
   ]
  },
  {
   "cell_type": "code",
   "execution_count": 18,
   "metadata": {},
   "outputs": [
    {
     "data": {
      "image/png": "[encoded data removed]",
      "text/plain": [
       "<Figure size 432x288 with 1 Axes>"
      ]
     },
     "metadata": {
      "needs_background": "light"
     },
     "output_type": "display_data"
    }
   ],
   "source": [
    "# Creating a data frame to hold the simulated ecommerce data, and populating it with a \n",
    "#normally distributed variable w/ mean 75 and standard deviation 25.\n",
    "\n",
    "ecommerce = pd.DataFrame()\n",
    "ecommerce['spending'] = np.random.normal(75, 25, 1000)\n",
    "\n",
    "#Plot a histogram\n",
    "plt.hist(ecommerce['spending'])\n",
    "plt.show()"
   ]
  },
  {
   "cell_type": "markdown",
   "metadata": {},
   "source": [
    "##### But let's say we're actually interested in a subset of that population, for instance visitors who visited the site more than twice. That data may look like this:"
   ]
  },
  {
   "cell_type": "code",
   "execution_count": null,
   "metadata": {},
   "outputs": [],
   "source": [
    "# Adding a variable with counts of number of times visiting the site.\n",
    "ecommerce['visit_count'] = np.random.randint(0, 5, 1000)\n",
    "\n",
    "# Selecting only the cases where the visit count is greater than two and plotting those.\n",
    "plt.hist(ecommerce[ecommerce['visit_count'] > 2]['spending'])\n",
    "plt.show()"
   ]
  },
  {
   "cell_type": "code",
   "execution_count": 19,
   "metadata": {},
   "outputs": [
    {
     "data": {
      "image/png": "[encoded data removed]",
      "text/plain": [
       "<Figure size 432x288 with 1 Axes>"
      ]
     },
     "metadata": {
      "needs_background": "light"
     },
     "output_type": "display_data"
    }
   ],
   "source": [
    "#Adding a variable with counts of  number of times visiting the site\n",
    "ecommerce['visit_count'] = np.random.randint(0, 5, 1000)\n",
    "\n",
    "#Selecting only the case where the visit counts is greater than two and plotting those\n",
    "plt.hist(ecommerce[ecommerce['visit_count'] > 2]['spending'])\n",
    "plt.show()"
   ]
  },
  {
   "cell_type": "markdown",
   "metadata": {},
   "source": [
    "## Drill- Descriptive Statistic and Normality"
   ]
  },
  {
   "cell_type": "markdown",
   "metadata": {},
   "source": [
    "To complete the following drills, you'll need to use your Python skills to create some datasets, then use your new statistical knowledge to summarize them. Choose 6 distributions from the list of random distributions available in NumPy, called “Distributions”\n",
    "\n",
    "For each distribution:\n",
    "\n",
    "Generate a random variable with 100 datapoints using the code distributionvar = np.random.distributionname([arguments], 100), replacing distributionvar with an appropriate variable name and distributionname with the name of the distribution you’ve chosen, and filling in the empty space in the parentheses with your chosen values for the appropriate parameters. If you feel uncertain about how to do this, go back to the “Other Distributions” assignment for examples of code to use as a starting point.\n",
    "Graph the variable using a histogram.\n",
    "Compute the mean and standard deviation and plot them as vertical lines on the histogram. (Hint: the “When Does It Break?” assignment you just completed can help you here.)\n",
    "Evaluate whether the descriptive statistics provided useful information about the variable. Can you identify any common characteristics of the distributions that could be usefully described using the mean and/or standard deviation, versus the ones that could not?\n",
    "Additionally:\n",
    "\n",
    "Generate two normally-distributed variables, one with a mean of 5 and standard deviation of 0.5, and the other with a mean of 10 and standard deviation of 1.\n",
    "Add them together to create a third variable.\n",
    "Graph the third variable using a histogram.\n",
    "Compute the mean and standard deviation and plot them as vertical lines on the histogram.\n",
    "Evaluate the descriptive statistics against the data."
   ]
  },
  {
   "cell_type": "code",
   "execution_count": 2,
   "metadata": {},
   "outputs": [],
   "source": [
    "import numpy as np\n",
    "import pandas as pd\n",
    "import matplotlib.pyplot as plt\n",
    "%matplotlib inline"
   ]
  },
  {
   "cell_type": "markdown",
   "metadata": {},
   "source": [
    "1Generate a random variable with 100 datapoints using the code distributionvar = np.random.distributionname([arguments], 100), replacing distributionvar with an appropriate variable name and distributionname with the name of the distribution you’ve chosen, and filling in the empty space in the parentheses with your chosen values for the appropriate parameters. If you feel uncertain about how to do this, go back to the “Other Distributions” assignment for examples of code to use as a starting point."
   ]
  },
  {
   "cell_type": "code",
   "execution_count": 3,
   "metadata": {},
   "outputs": [
    {
     "data": {
      "image/png": "[encoded data removed]",
      "text/plain": [
       "<Figure size 432x288 with 1 Axes>"
      ]
     },
     "metadata": {
      "needs_background": "light"
     },
     "output_type": "display_data"
    }
   ],
   "source": [
    "#1\n",
    "chisquare = np.random.chisquare(50, 100)\n",
    "plt.hist(chisquare)\n",
    "plt.show()"
   ]
  },
  {
   "cell_type": "code",
   "execution_count": 6,
   "metadata": {},
   "outputs": [
    {
     "name": "stdout",
     "output_type": "stream",
     "text": [
      "49.49946344715091\n",
      "9.142432116405985\n"
     ]
    }
   ],
   "source": [
    "print(chisquare.mean())\n",
    "print(chisquare.std())"
   ]
  },
  {
   "cell_type": "code",
   "execution_count": 5,
   "metadata": {
    "scrolled": false
   },
   "outputs": [
    {
     "data": {
      "image/png": "[encoded data removed]",
      "text/plain": [
       "<Figure size 432x288 with 1 Axes>"
      ]
     },
     "metadata": {
      "needs_background": "light"
     },
     "output_type": "display_data"
    }
   ],
   "source": [
    "#Plot a histogram for chisquare.\n",
    "plt.hist(chisquare, bins = 20, color = 'c')\n",
    "\n",
    "#Add a vertical line at the mean\n",
    "plt.axvline(chisquare.mean(), color = 'b', linestyle = 'solid', linewidth= 2)\n",
    "\n",
    "#Add a vertical line at one standard deviation above the mean.\n",
    "plt.axvline(chisquare.mean()+chisquare.std(), color = 'b', linestyle = 'dashed', linewidth= 2)\n",
    "\n",
    "#Add a vertical line at the standard deviation below the mean.\n",
    "plt.axvline(chisquare.mean()-chisquare.std(), color = 'b', linestyle = 'dashed', linewidth= 2)\n",
    "\n",
    "#Print the Histogram\n",
    "plt.show()\n"
   ]
  },
  {
   "cell_type": "markdown",
   "metadata": {},
   "source": [
    "chisquare is normal, the mean is placed where the data clusters, with approximately 50% of the data falling on either side, and approximately 67% of the data falling within one standard deviation of the mean. "
   ]
  },
  {
   "cell_type": "code",
   "execution_count": 8,
   "metadata": {},
   "outputs": [
    {
     "data": {
      "image/png": "[encoded data removed]",
      "text/plain": [
       "<Figure size 432x288 with 1 Axes>"
      ]
     },
     "metadata": {
      "needs_background": "light"
     },
     "output_type": "display_data"
    }
   ],
   "source": [
    "#2\n",
    "#loc, scale = 0, 1\n",
    "laplace = np.random.laplace(0, 1, 100)\n",
    "plt.hist(laplace)\n",
    "plt.show()"
   ]
  },
  {
   "cell_type": "code",
   "execution_count": 9,
   "metadata": {},
   "outputs": [
    {
     "name": "stdout",
     "output_type": "stream",
     "text": [
      "-0.18457608554121233\n",
      "1.3451904777110861\n"
     ]
    }
   ],
   "source": [
    "print(laplace.mean())\n",
    "print(laplace.std())"
   ]
  },
  {
   "cell_type": "code",
   "execution_count": 12,
   "metadata": {},
   "outputs": [
    {
     "data": {
      "image/png": "[encoded data removed]",
      "text/plain": [
       "<Figure size 432x288 with 1 Axes>"
      ]
     },
     "metadata": {
      "needs_background": "light"
     },
     "output_type": "display_data"
    }
   ],
   "source": [
    "#Plot a histogram for laplace.\n",
    "plt.hist(laplace, bins = 20, color = 'c')\n",
    "\n",
    "#Add a vertical line at the mean\n",
    "plt.axvline(laplace.mean(), color = 'b', linestyle = 'solid', linewidth= 2)\n",
    "\n",
    "#Add a vertical line at one standard deviation above the mean.\n",
    "plt.axvline(laplace.mean()+laplace.std(), color = 'b', linestyle = 'dashed', linewidth= 2)\n",
    "\n",
    "#Add a vertical line at the standard deviation below the mean.\n",
    "plt.axvline(laplace.mean()-laplace.std(), color = 'b', linestyle = 'dashed', linewidth= 2)\n",
    "\n",
    "#Print the Histogram\n",
    "plt.show()\n"
   ]
  },
  {
   "cell_type": "markdown",
   "metadata": {},
   "source": [
    "Laplace is normal, the mean is placed where the data clusters, with approximately 50% of the data falling on either side, and approximately 67% of the data falling within one standard deviation of the mean. "
   ]
  },
  {
   "cell_type": "code",
   "execution_count": 9,
   "metadata": {},
   "outputs": [
    {
     "data": {
      "image/png": "[encoded data removed]",
      "text/plain": [
       "<Figure size 432x288 with 1 Axes>"
      ]
     },
     "metadata": {
      "needs_background": "light"
     },
     "output_type": "display_data"
    }
   ],
   "source": [
    "#3\n",
    "#loc, scale = 10, 1\n",
    "logistic = np.random.logistic(0, 1, 100)\n",
    "plt.hist(logistic)\n",
    "plt.show()\n"
   ]
  },
  {
   "cell_type": "code",
   "execution_count": 10,
   "metadata": {},
   "outputs": [
    {
     "name": "stdout",
     "output_type": "stream",
     "text": [
      "-0.08193070519777595\n",
      "2.1330524745273\n"
     ]
    }
   ],
   "source": [
    "print(logistic.mean())\n",
    "print(logistic.std())"
   ]
  },
  {
   "cell_type": "code",
   "execution_count": 15,
   "metadata": {},
   "outputs": [
    {
     "data": {
      "image/png": "[encoded data removed]",
      "text/plain": [
       "<Figure size 432x288 with 1 Axes>"
      ]
     },
     "metadata": {
      "needs_background": "light"
     },
     "output_type": "display_data"
    }
   ],
   "source": [
    "#Plot a histogram for logistic.\n",
    "plt.hist(logistic, bins = 20, color = 'c')\n",
    "\n",
    "#Add a vertical line at the mean\n",
    "plt.axvline(logistic.mean(), color = 'y', linestyle = 'solid', linewidth= 2)\n",
    "\n",
    "#Add a vertical line at one standard deviation above the mean.\n",
    "plt.axvline(logistic.mean()+logistic.std(), color = 'pink', linestyle = 'dashed', linewidth= 2)\n",
    "\n",
    "#Add a vertical line at the standard deviation below the mean.\n",
    "plt.axvline(logistic.mean()-logistic.std(), color = 'pink', linestyle = 'dashed', linewidth= 2)\n",
    "\n",
    "#Print the Histogram\n",
    "plt.show()"
   ]
  },
  {
   "cell_type": "markdown",
   "metadata": {},
   "source": [
    "Logistic is normal, the mean is placed where the data clusters, with approximately 50% of the data falling on either side, and approximately 67% of the data falling within one standard deviation of the mean. "
   ]
  },
  {
   "cell_type": "code",
   "execution_count": 23,
   "metadata": {
    "scrolled": true
   },
   "outputs": [
    {
     "data": {
      "text/plain": [
       "(array([ 2.,  0.,  0.,  0.,  0., 15.,  0.,  0.,  0., 83.]),\n",
       " array([ 8. ,  8.2,  8.4,  8.6,  8.8,  9. ,  9.2,  9.4,  9.6,  9.8, 10. ]),\n",
       " <a list of 10 Patch objects>)"
      ]
     },
     "execution_count": 23,
     "metadata": {},
     "output_type": "execute_result"
    },
    {
     "data": {
      "image/png": "[encoded data removed]",
      "text/plain": [
       "<Figure size 432x288 with 1 Axes>"
      ]
     },
     "metadata": {
      "needs_background": "light"
     },
     "output_type": "display_data"
    }
   ],
   "source": [
    "#4\n",
    "ngood, nbad, nsamp = 100, 2, 10\n",
    "# number of good, number of bad, and number of samples\n",
    "hypergeometric = np.random.hypergeometric(ngood, nbad, nsamp, 100)\n",
    "plt.hist(hypergeo)\n",
    "# note that it is very unlikely to grab both bad items"
   ]
  },
  {
   "cell_type": "code",
   "execution_count": 24,
   "metadata": {},
   "outputs": [
    {
     "name": "stdout",
     "output_type": "stream",
     "text": [
      "9.85\n",
      "0.35707142142714254\n"
     ]
    }
   ],
   "source": [
    "print(hypergeometric.mean())\n",
    "print(hypergeometric.std())"
   ]
  },
  {
   "cell_type": "code",
   "execution_count": 25,
   "metadata": {},
   "outputs": [
    {
     "data": {
      "image/png": "[encoded data removed]",
      "text/plain": [
       "<Figure size 432x288 with 1 Axes>"
      ]
     },
     "metadata": {
      "needs_background": "light"
     },
     "output_type": "display_data"
    }
   ],
   "source": [
    "#Plot a histogram for hypergeometric.\n",
    "plt.hist(hypergeometric, bins = 20, color = 'c')\n",
    "\n",
    "#Add a vertical line at the mean\n",
    "plt.axvline(hypergeometric.mean(), color = 'b', linestyle = 'solid', linewidth= 2)\n",
    "\n",
    "#Add a vertical line at one standard deviation above the mean.\n",
    "plt.axvline(hypergeometric.mean()+hypergeometric.std(), color = 'b', linestyle = 'dashed', linewidth= 2)\n",
    "\n",
    "#Add a vertical line at the standard deviation below the mean.\n",
    "plt.axvline(hypergeometric.mean()-hypergeometric.std(), color = 'b', linestyle = 'dashed', linewidth= 2)\n",
    "\n",
    "#Print the Histogram\n",
    "plt.show()"
   ]
  },
  {
   "cell_type": "markdown",
   "metadata": {},
   "source": [
    "For hypergeometric, the mean is still placed where the data clusters, but the cluster is not centered, and the standard deviation does not encompass the same amount of data on each side of the mean. Put another way, for rand2 the mean is no longer a measure of \"central\" tendency, as it does not fall in the center, and the standard deviation no longer describes how much variance there is. Asymmetric probability distributions are described as \"skewed.\""
   ]
  },
  {
   "cell_type": "code",
   "execution_count": 22,
   "metadata": {},
   "outputs": [
    {
     "data": {
      "image/png": "[encoded data removed]",
      "text/plain": [
       "<Figure size 432x288 with 1 Axes>"
      ]
     },
     "metadata": {
      "needs_background": "light"
     },
     "output_type": "display_data"
    }
   ],
   "source": [
    "#5\n",
    "#mu, beta = 0, 0.1 # location and scale\n",
    "gumbel = np.random.gumbel(0,0.1, 100)\n",
    "plt.hist(gumbel)\n",
    "plt.show()"
   ]
  },
  {
   "cell_type": "code",
   "execution_count": 92,
   "metadata": {},
   "outputs": [
    {
     "name": "stdout",
     "output_type": "stream",
     "text": [
      "mean:  0.053648150975530884\n",
      "standard deviation:  0.12614792932329014\n"
     ]
    }
   ],
   "source": [
    "print(\"mean: \", gumbel.mean())\n",
    "print(\"standard deviation: \",gumbel.std())"
   ]
  },
  {
   "cell_type": "code",
   "execution_count": 23,
   "metadata": {},
   "outputs": [
    {
     "data": {
      "image/png": "[encoded data removed]",
      "text/plain": [
       "<Figure size 432x288 with 1 Axes>"
      ]
     },
     "metadata": {
      "needs_background": "light"
     },
     "output_type": "display_data"
    }
   ],
   "source": [
    "#Plot a histogram for gumbel.\n",
    "plt.hist(gumbel, bins = 20, color = 'c')\n",
    "\n",
    "#Add a vertical line at the mean\n",
    "plt.axvline(gumbel.mean(), color = 'b', linestyle = 'solid', linewidth= 2)\n",
    "\n",
    "#Add a vertical line at one standard deviation above the mean.\n",
    "plt.axvline(gumbel.mean()+gumbel.std(), color = 'b', linestyle = 'dashed', linewidth= 2)\n",
    "\n",
    "#Add a vertical line at the standard deviation below the mean.\n",
    "plt.axvline(gumbel.mean()-gumbel.std(), color = 'b', linestyle = 'dashed', linewidth= 2)\n",
    "\n",
    "#Print the Histogram\n",
    "plt.show()"
   ]
  },
  {
   "cell_type": "markdown",
   "metadata": {},
   "source": [
    "Logistic is gumbel, the mean is placed where the data clusters, with approximately 50% of the data falling on either side, and approximately 67% of the data falling within one standard deviation of the mean. "
   ]
  },
  {
   "cell_type": "code",
   "execution_count": 25,
   "metadata": {},
   "outputs": [
    {
     "data": {
      "image/png": "[encoded data removed]",
      "text/plain": [
       "<Figure size 432x288 with 1 Axes>"
      ]
     },
     "metadata": {
      "needs_background": "light"
     },
     "output_type": "display_data"
    }
   ],
   "source": [
    "geometry = np.random.geometric(p=0.40, size=100)\n",
    "plt.hist(geometry)\n",
    "plt.show()"
   ]
  },
  {
   "cell_type": "code",
   "execution_count": 28,
   "metadata": {},
   "outputs": [
    {
     "data": {
      "image/png": "[encoded data removed]",
      "text/plain": [
       "<Figure size 432x288 with 1 Axes>"
      ]
     },
     "metadata": {
      "needs_background": "light"
     },
     "output_type": "display_data"
    }
   ],
   "source": [
    "#Plot a histogram for Geometry.\n",
    "plt.hist(geometry, bins = 20, color = 'c')\n",
    "\n",
    "#Add a vertical line at the mean\n",
    "plt.axvline(geometry.mean(), color = 'b', linestyle = 'solid', linewidth= 2)\n",
    "\n",
    "#Add a vertical line at one standard deviation above the mean.\n",
    "plt.axvline(geometry.mean()+geometry.std(), color = 'b', linestyle = 'dashed', linewidth= 2)\n",
    "\n",
    "#Add a vertical line at the standard deviation below the mean.\n",
    "plt.axvline(geometry.mean()-geometry.std(), color = 'b', linestyle = 'dashed', linewidth= 2)\n",
    "\n",
    "#Print the Histogram\n",
    "plt.show()"
   ]
  },
  {
   "cell_type": "markdown",
   "metadata": {},
   "source": [
    "For Geometry, the mean is still placed where the data clusters, but the cluster is not centered, and the standard deviation does not encompass the same amount of data on each side of the mean. Put another way, for the mean is no longer a measure of \"central\" tendency, as it does not fall in the center, and the standard deviation no longer describes how much variance there is. Asymmetric probability distributions are described as \"skewed.\""
   ]
  },
  {
   "cell_type": "markdown",
   "metadata": {},
   "source": [
    "Additionally:\n",
    " 1. Generate two normally-distributed variables, one with a mean of 5 and standard deviation of 0.5, \n",
    "and the other with a mean of 10 and standard deviation of 1.  \n",
    " 2. Add them together to create a third variable.\n",
    " 3. Graph the third variable using a histogram.\n",
    " 4. Compute the mean and standard deviation and plot them as vertical lines on the histogram.\n",
    " 5. Evaluate the descriptive statistics against the data"
   ]
  },
  {
   "cell_type": "code",
   "execution_count": 4,
   "metadata": {},
   "outputs": [
    {
     "data": {
      "image/png": "[encoded data removed]",
      "text/plain": [
       "<Figure size 432x288 with 1 Axes>"
      ]
     },
     "metadata": {
      "needs_background": "light"
     },
     "output_type": "display_data"
    }
   ],
   "source": [
    "import numpy as np \n",
    "import matplotlib.pyplot as plt\n",
    "\n",
    "var1 = np.random.normal(5 , .5, 100)\n",
    "var2 = np.random.normal(10, 1, 100)\n",
    "var3 = var1 + var2\n",
    "\n",
    "mean = np.mean(var3)\n",
    "sd = np.std(var3)\n",
    "\n",
    "plt.hist(var3)\n",
    "plt.axvline(x=mean, color= 'black')\n",
    "plt.axvline(x=mean+sd, color= 'red', linestyle = 'dashed')\n",
    "plt.axvline(x=mean-sd, color= 'red', linestyle = 'dashed')\n",
    "plt.show()\n",
    "\n"
   ]
  },
  {
   "cell_type": "markdown",
   "metadata": {},
   "source": [
    "var 3 is looks normal but results will vary depending on random seed.  In general, stats should show some skew."
   ]
  },
  {
   "cell_type": "code",
   "execution_count": 109,
   "metadata": {},
   "outputs": [
    {
     "data": {
      "image/png": "[encoded data removed]",
      "text/plain": [
       "<Figure size 432x288 with 1 Axes>"
      ]
     },
     "metadata": {
      "needs_background": "light"
     },
     "output_type": "display_data"
    }
   ],
   "source": [
    "rand1 = np.random.normal(50, 300, 1000)\n",
    "rand2 = np.random.poisson(1, 1000)\n",
    "rand3 = rand1 + rand2\n",
    "\n",
    "#Plot a histogram for rand1.\n",
    "plt.hist(rand3, bins = 20, color = 'c')\n",
    "\n",
    "#Add a vertical line at the mean\n",
    "plt.axvline(rand3.mean(), color = 'b', linestyle = 'solid', linewidth= 2)\n",
    "\n",
    "#Add a vertical line at one standard deviation above the mean.\n",
    "plt.axvline(rand3.mean()+rand3.std(), color = 'b', linestyle = 'dashed', linewidth= 2)\n",
    "\n",
    "#Add a vertical line at the standard deviation below the mean.\n",
    "plt.axvline(rand3.mean()-rand3.std(), color = 'b', linestyle = 'dashed', linewidth= 2)\n",
    "\n",
    "#Print the Histogram\n",
    "plt.show()"
   ]
  },
  {
   "cell_type": "markdown",
   "metadata": {},
   "source": [
    "### Central Limit Theorem"
   ]
  },
  {
   "cell_type": "code",
   "execution_count": 5,
   "metadata": {},
   "outputs": [],
   "source": [
    "import numpy as np\n",
    "import pandas as pd\n",
    "import scipy\n",
    "import matplotlib.pyplot as plt\n",
    "%matplotlib inline"
   ]
  },
  {
   "cell_type": "markdown",
   "metadata": {},
   "source": [
    "1. Increase the size of your sample from 100 to 1000, then calculate the means and standard deviations for your sample and create histograms for each. Repeat this again, decreasing the size of your sample to 20. What values change, and what remain the same?\n",
    "2. Change the population value p for group 1 to 0.3, then take new samples and compute the t-statistic and p-value. Then change the population value p for group 1 to 0.4, and do it again. What changes, and why?\n",
    "3. Change the distribution of your population from binomial to a distribution of your choice. Do the sample mean values still accurately represent the population values?"
   ]
  },
  {
   "cell_type": "markdown",
   "metadata": {},
   "source": [
    "Let’s spin up some population data and give this a try. We’ll make two variables to represent two different populations: one a binomially distributed variable with p of 0.2, n=10, and 10000 datapoints (group1), and another binomially distributed variable with p of 0.5, n=10, and 10000 datapoints (group2). The true population difference between the two populations is 0.3."
   ]
  },
  {
   "cell_type": "code",
   "execution_count": 6,
   "metadata": {},
   "outputs": [
    {
     "data": {
      "image/png": "[encoded data removed]",
      "text/plain": [
       "<Figure size 432x288 with 1 Axes>"
      ]
     },
     "metadata": {
      "needs_background": "light"
     },
     "output_type": "display_data"
    }
   ],
   "source": [
    "pop1 = np.random.binomial(10, 0.2, 10000)\n",
    "pop2 = np.random.binomial(10, 0.5, 10000)\n",
    "\n",
    "# Let's make histogram for the two groups.\n",
    "plt.hist(pop1, alpha= 0.5, label= 'Population 1')\n",
    "plt.hist(pop2, alpha= 0.5, label= 'Population 2')\n",
    "plt.legend(loc= 'upper right')\n",
    "plt.show()"
   ]
  },
  {
   "cell_type": "markdown",
   "metadata": {},
   "source": [
    "The populations are not normal. Next, take a sample of 100 from each population and plot them."
   ]
  },
  {
   "cell_type": "code",
   "execution_count": 7,
   "metadata": {},
   "outputs": [
    {
     "data": {
      "image/png": "[encoded data removed]",
      "text/plain": [
       "<Figure size 432x288 with 1 Axes>"
      ]
     },
     "metadata": {
      "needs_background": "light"
     },
     "output_type": "display_data"
    }
   ],
   "source": [
    "sample1= np.random.choice(pop1, 100, replace= True)\n",
    "sample2= np.random.choice(pop2, 100, replace= True)\n",
    "\n",
    "plt.hist(sample1, alpha= 0.5, label= 'sample 1')\n",
    "plt.hist(sample2, alpha= 0.5, label= 'sample 2')\n",
    "plt.legend(loc= \"upper right\")\n",
    "plt.show()"
   ]
  },
  {
   "cell_type": "code",
   "execution_count": 11,
   "metadata": {},
   "outputs": [
    {
     "name": "stdout",
     "output_type": "stream",
     "text": [
      "sample1.mean:  2.04\n",
      "sample2.mean:  4.94\n",
      "sample1.std:  1.3108775686539154\n",
      "sample2.std:  1.8100828710310475\n",
      "sample means diff:  2.9000000000000004\n"
     ]
    }
   ],
   "source": [
    "print('sample1.mean: ', sample1.mean())\n",
    "print('sample2.mean: ', sample2.mean())\n",
    "print('sample1.std: ', sample1.std())\n",
    "print('sample2.std: ', sample2.std())\n",
    "\n",
    "#Compute the difference between the two sample means.\n",
    "diff= sample2.mean()-sample1.mean()\n",
    "print('sample means diff: ', diff)"
   ]
  },
  {
   "cell_type": "code",
   "execution_count": 143,
   "metadata": {},
   "outputs": [
    {
     "name": "stdout",
     "output_type": "stream",
     "text": [
      "[100 100]\n",
      "[1.24996    1.72046505]\n"
     ]
    }
   ],
   "source": [
    "size= np.array([len(sample1), len(sample2)])\n",
    "sd= np.array([sample1.std(), sample2.std()])\n",
    "print(size)\n",
    "print(sd)"
   ]
  },
  {
   "cell_type": "code",
   "execution_count": 144,
   "metadata": {},
   "outputs": [
    {
     "name": "stdout",
     "output_type": "stream",
     "text": [
      "16.176104964977267\n"
     ]
    }
   ],
   "source": [
    "size= np.array([len(sample1), len(sample2)])\n",
    "sd= np.array([sample1.std(), sample2.std()])\n",
    "\n",
    "#The squared standard deviation are divided by the sample size and summed, then we take\n",
    "#square root of the sum.\n",
    "diff_se= (sum(sd**2/size))**0.5\n",
    "\n",
    "#The squared standard deviations are divided by the standard error: T-value\n",
    "print(diff/diff_se)"
   ]
  },
  {
   "cell_type": "code",
   "execution_count": 145,
   "metadata": {},
   "outputs": [
    {
     "name": "stdout",
     "output_type": "stream",
     "text": [
      "Ttest_indResult(statistic=16.0950212214704, pvalue=9.685856600937978e-37)\n"
     ]
    }
   ],
   "source": [
    "from scipy.stats import ttest_ind\n",
    "print(ttest_ind(sample2, sample1, equal_var= False))"
   ]
  },
  {
   "cell_type": "markdown",
   "metadata": {},
   "source": [
    "## Drill- Exploring the Central limit theorem"
   ]
  },
  {
   "cell_type": "code",
   "execution_count": 1,
   "metadata": {},
   "outputs": [],
   "source": [
    "\n",
    "import numpy as np\n",
    "import pandas as pd\n",
    "import scipy\n",
    "import matplotlib.pyplot as plt\n",
    "%matplotlib inline"
   ]
  },
  {
   "cell_type": "markdown",
   "metadata": {},
   "source": [
    "1. Increase the size of your sample from 100 to 1000, then calculate the means and standard deviations for your sample and create histograms for each. Repeat this again, decreasing the size of your sample to 20. What values change, and what remain the same?\n",
    "\n",
    "2. Change the population value p for group 1 to 0.3, then take new samples and compute the t-statistic and p-value. Then change the population value p for group 1 to 0.4, and do it again. What changes, and why?\n",
    "\n",
    "3. Change the distribution of your population from binomial to a distribution of your choice. Do the sample mean values still accurately represent the population values?"
   ]
  },
  {
   "cell_type": "code",
   "execution_count": 13,
   "metadata": {
    "scrolled": false
   },
   "outputs": [
    {
     "name": "stdout",
     "output_type": "stream",
     "text": [
      "sample1.mean:  1.99\n",
      "sample2.mean:  4.92\n",
      "sample1.std:  1.228779882647824\n",
      "sample2.std:  1.5011995203836161\n",
      "diff_sample1_2:  2.9299999999999997\n"
     ]
    },
    {
     "data": {
      "image/png": "[encoded data removed]",
      "text/plain": [
       "<Figure size 432x288 with 1 Axes>"
      ]
     },
     "metadata": {
      "needs_background": "light"
     },
     "output_type": "display_data"
    }
   ],
   "source": [
    "# Sample sizes 100\n",
    "pop1 = np.random.binomial(10, 0.2, 10000)\n",
    "pop2 = np.random.binomial(10,0.5, 10000) \n",
    "\n",
    "sample1 = np.random.choice(pop1, 100, replace=True)\n",
    "sample2 = np.random.choice(pop2, 100, replace=True)\n",
    "\n",
    "print('sample1.mean: ', sample1.mean())\n",
    "print('sample2.mean: ', sample2.mean())\n",
    "print('sample1.std: ', sample1.std())\n",
    "print('sample2.std: ', sample2.std())\n",
    "\n",
    "# Compute the difference between the two sample means.\n",
    "diff=sample2.mean( ) - sample1.mean()\n",
    "print('diff_sample1_2: ', diff)\n",
    "\n",
    "plt.hist(sample1, alpha=0.5, label='sample 1') \n",
    "plt.hist(sample2, alpha=0.5, label='sample 2') \n",
    "plt.legend(loc='upper right') \n",
    "plt.show()"
   ]
  },
  {
   "cell_type": "code",
   "execution_count": 14,
   "metadata": {},
   "outputs": [
    {
     "name": "stdout",
     "output_type": "stream",
     "text": [
      "sample1.mean:  1.969\n",
      "sample2.mean:  4.986\n",
      "sample1.std:  1.2728075266905048\n",
      "sample2.std:  1.5568570904228813\n",
      "diff_sample1_2:  3.0169999999999995\n"
     ]
    },
    {
     "data": {
      "image/png": "[encoded data removed]",
      "text/plain": [
       "<Figure size 432x288 with 1 Axes>"
      ]
     },
     "metadata": {
      "needs_background": "light"
     },
     "output_type": "display_data"
    }
   ],
   "source": [
    "# Sample sizes 1000\n",
    "pop1 = np.random.binomial(10, 0.2, 10000)\n",
    "pop2 = np.random.binomial(10,0.5, 10000) \n",
    "\n",
    "sample1 = np.random.choice(pop1, 1000, replace=True)\n",
    "sample2 = np.random.choice(pop2, 1000, replace=True)\n",
    "\n",
    "print('sample1.mean: ', sample1.mean())\n",
    "print('sample2.mean: ', sample2.mean())\n",
    "print('sample1.std: ', sample1.std())\n",
    "print('sample2.std: ', sample2.std())\n",
    "\n",
    "# Compute the difference between the two sample means.\n",
    "diff=sample2.mean( ) -sample1.mean()\n",
    "print('diff_sample1_2: ', diff)\n",
    "\n",
    "plt.hist(sample1, alpha=0.5, label='sample 1') \n",
    "plt.hist(sample2, alpha=0.5, label='sample 2') \n",
    "plt.legend(loc='upper right') \n",
    "plt.show()"
   ]
  },
  {
   "cell_type": "markdown",
   "metadata": {},
   "source": [
    "Sample sizes 20\n",
    "pop1 = np.random.binomial(10, 0.2, 10000) \n",
    "pop2 = np.random.binomial(10,0.5, 10000)\n",
    "\n",
    "sample1 = np.random.choice(pop1, 20, replace=True) \n",
    "sample2 = np.random.choice(pop2, 20, replace=True)\n",
    "\n",
    "print(sample1.mean()) print(sample2.mean()) print(sample1.std()) print(sample2.std())"
   ]
  },
  {
   "cell_type": "code",
   "execution_count": 15,
   "metadata": {},
   "outputs": [
    {
     "name": "stdout",
     "output_type": "stream",
     "text": [
      "sample1.mean:  1.7\n",
      "sample2.mean:  4.85\n",
      "sample1.std:  1.3453624047073711\n",
      "sample2.std:  1.3518505834595775\n",
      "diff_sample1_2:  3.1499999999999995\n"
     ]
    },
    {
     "data": {
      "image/png": "[encoded data removed]",
      "text/plain": [
       "<Figure size 432x288 with 1 Axes>"
      ]
     },
     "metadata": {
      "needs_background": "light"
     },
     "output_type": "display_data"
    }
   ],
   "source": [
    "# Sample sizes 20\n",
    "pop1 = np.random.binomial(10, 0.2, 10000)\n",
    "pop2 = np.random.binomial(10,0.5, 10000) \n",
    "\n",
    "sample1 = np.random.choice(pop1, 20, replace=True)\n",
    "sample2 = np.random.choice(pop2, 20, replace=True)\n",
    "\n",
    "print('sample1.mean: ', sample1.mean())\n",
    "print('sample2.mean: ', sample2.mean())\n",
    "print('sample1.std: ', sample1.std())\n",
    "print('sample2.std: ', sample2.std())\n",
    "\n",
    "# Compute the difference between the two sample means.\n",
    "diff=sample2.mean( ) -sample1.mean()\n",
    "print('diff_sample1_2: ', diff)\n",
    "\n",
    "plt.hist(sample1, alpha=0.5, label='sample 1') \n",
    "plt.hist(sample2, alpha=0.5, label='sample 2') \n",
    "plt.legend(loc='upper right') \n",
    "plt.show()"
   ]
  },
  {
   "cell_type": "code",
   "execution_count": null,
   "metadata": {},
   "outputs": [],
   "source": [
    "#sample size 20\n",
    "mean1:  2.15\n",
    "mean2:  5.6\n",
    "standard1:  1.2757350822173075\n",
    "standard2:  1.3564659966250538\n",
    "diff_sample1_2:  3.4499999999999997\n",
    "\n",
    "#sample size 100\n",
    "mean1:  2.05\n",
    "mean2:  4.8\n",
    "standard1:  1.1434596626029272\n",
    "standard2:  1.4560219778561037\n",
    "diff_sample1_2:  2.75\n",
    "    \n",
    "#sample size 1000\n",
    "mean1:  2.046\n",
    "mean2:  4.995\n",
    "standard1:  1.3160106382548737\n",
    "standard2:  1.5661976248226148\n",
    "diff_sample1_2:  2.9490000000000003\n",
    "\n",
    "#Means has a little changes, Standard deviation changes more."
   ]
  },
  {
   "cell_type": "markdown",
   "metadata": {},
   "source": [
    "2. Change the population value p for group 1 to 0.3, then take new samples and compute the t-statistic and p-value. Then change the population value p for group 1 to 0.4, and do it again. What changes, and why?"
   ]
  },
  {
   "cell_type": "code",
   "execution_count": 14,
   "metadata": {},
   "outputs": [
    {
     "name": "stdout",
     "output_type": "stream",
     "text": [
      "Ttest_indResult(statistic=10.481795866646149, pvalue=1.55380266648793e-20)\n"
     ]
    }
   ],
   "source": [
    "# Pop1 p = .3\n",
    "pop1 = np.random.binomial(10, 0.3, 10000)\n",
    "pop2 = np.random.binomial(10,0.5, 10000) \n",
    "\n",
    "sample1 = np.random.choice(pop1, 100, replace=True)\n",
    "sample2 = np.random.choice(pop2, 100, replace=True)\n",
    "\n",
    "from scipy.stats import ttest_ind\n",
    "print(ttest_ind(sample2, sample1, equal_var=False))"
   ]
  },
  {
   "cell_type": "code",
   "execution_count": 13,
   "metadata": {},
   "outputs": [
    {
     "name": "stdout",
     "output_type": "stream",
     "text": [
      "Ttest_indResult(statistic=4.949633188340387, pvalue=1.5911495278271275e-06)\n"
     ]
    }
   ],
   "source": [
    "# Pop1 p = .4\n",
    "pop1 = np.random.binomial(10, 0.4, 10000)\n",
    "pop2 = np.random.binomial(10,0.5, 10000) \n",
    "\n",
    "\n",
    "sample1 = np.random.choice(pop1, 100, replace=True)\n",
    "sample2 = np.random.choice(pop2, 100, replace=True)\n",
    "\n",
    "from scipy.stats import ttest_ind\n",
    "print(ttest_ind(sample2, sample1, equal_var=False))"
   ]
  },
  {
   "cell_type": "code",
   "execution_count": null,
   "metadata": {},
   "outputs": [],
   "source": [
    "# 2. The t-value shrinks and the p-value gets larger as the samples become more similar"
   ]
  },
  {
   "cell_type": "markdown",
   "metadata": {},
   "source": [
    "3. Change the distribution of your population from binomial to a distribution of your choice. Do the sample mean values still    accurately represent the population values?"
   ]
  },
  {
   "cell_type": "markdown",
   "metadata": {},
   "source": [
    "### Use gamma distribution"
   ]
  },
  {
   "cell_type": "code",
   "execution_count": 4,
   "metadata": {},
   "outputs": [
    {
     "name": "stdout",
     "output_type": "stream",
     "text": [
      "mean1:  3.0190556439983656\n",
      "mean2:  5.0046588053553025\n",
      "standard1:  0.949050890472955\n",
      "standard2:  1.603432721570148\n",
      "diff_sample1_2:  1.985603161356937\n"
     ]
    },
    {
     "data": {
      "text/plain": [
       "<function matplotlib.pyplot.show(*args, **kw)>"
      ]
     },
     "execution_count": 4,
     "metadata": {},
     "output_type": "execute_result"
    },
    {
     "data": {
      "image/png": "[encoded data removed]",
      "text/plain": [
       "<Figure size 432x288 with 1 Axes>"
      ]
     },
     "metadata": {
      "needs_background": "light"
     },
     "output_type": "display_data"
    }
   ],
   "source": [
    "# Sample size 1000\n",
    "pop1 = np.random.gamma(10, 0.3, 10000)\n",
    "pop2 = np.random.gamma(10, 0.5, 10000)\n",
    "\n",
    "\n",
    "sample1 = np.random.choice(pop1, 1000, replace = True)\n",
    "sample2 = np.random.choice(pop2, 1000, replace = True)\n",
    "\n",
    "\n",
    "print('mean1: ', sample1.mean())\n",
    "print('mean2: ', sample2.mean())\n",
    "print('standard1: ', sample1.std())\n",
    "print('standard2: ', sample2.std())\n",
    "\n",
    "#Compute the difference between the two sample means.\n",
    "diff= sample2.mean() - sample1.mean()\n",
    "print('diff_sample1_2: ', diff)\n",
    "\n",
    "plt.hist(sample1, alpha=0.5, label= 'sample 1')\n",
    "plt.hist(sample2, alpha= 0.5, label= 'sample2')\n",
    "plt.legend(loc= 'upper right')\n",
    "plt.show"
   ]
  },
  {
   "cell_type": "code",
   "execution_count": 6,
   "metadata": {},
   "outputs": [
    {
     "name": "stdout",
     "output_type": "stream",
     "text": [
      "mean1:  3.0365267090523966\n",
      "mean2:  4.931741308939336\n",
      "standard1:  0.7615609569691818\n",
      "standard2:  1.3332407686653676\n",
      "diff_sample1_2:  1.8952145998869394\n"
     ]
    },
    {
     "data": {
      "text/plain": [
       "<function matplotlib.pyplot.show(*args, **kw)>"
      ]
     },
     "execution_count": 6,
     "metadata": {},
     "output_type": "execute_result"
    },
    {
     "data": {
      "image/png": "[encoded data removed]",
      "text/plain": [
       "<Figure size 432x288 with 1 Axes>"
      ]
     },
     "metadata": {
      "needs_background": "light"
     },
     "output_type": "display_data"
    }
   ],
   "source": [
    "# Sample size 20\n",
    "pop1 = np.random.gamma(10, 0.3, 10000)\n",
    "pop2 = np.random.gamma(10, 0.5, 10000)\n",
    "\n",
    "\n",
    "sample1 = np.random.choice(pop1, 20, replace = True)\n",
    "sample2 = np.random.choice(pop2, 20, replace = True)\n",
    "\n",
    "\n",
    "print('mean1: ', sample1.mean())\n",
    "print('mean2: ', sample2.mean())\n",
    "print('standard1: ', sample1.std())\n",
    "print('standard2: ', sample2.std())\n",
    "\n",
    "#Compute the difference between the two sample means.\n",
    "diff= sample2.mean() - sample1.mean()\n",
    "print('diff_sample1_2: ', diff)\n",
    "\n",
    "plt.hist(sample1, alpha=0.5, label= 'sample 1')\n",
    "plt.hist(sample2, alpha= 0.5, label= 'sample2')\n",
    "plt.legend(loc= 'upper right')\n",
    "plt.show"
   ]
  },
  {
   "cell_type": "code",
   "execution_count": 7,
   "metadata": {},
   "outputs": [
    {
     "name": "stdout",
     "output_type": "stream",
     "text": [
      "Ttest_indResult(statistic=32.80005477154023, pvalue=1.437580338140222e-181)\n"
     ]
    }
   ],
   "source": [
    "# Pop1 p = .3\n",
    "pop1 = np.random.gamma(10, 0.3, 10000)\n",
    "pop2 = np.random.gamma(10,0.5, 10000) \n",
    "\n",
    "sample1 = np.random.choice(pop1, 1000, replace=True)\n",
    "sample2 = np.random.choice(pop2, 1000, replace=True)\n",
    "\n",
    "from scipy.stats import ttest_ind\n",
    "print(ttest_ind(sample2, sample1, equal_var=False))"
   ]
  },
  {
   "cell_type": "code",
   "execution_count": 16,
   "metadata": {},
   "outputs": [
    {
     "name": "stdout",
     "output_type": "stream",
     "text": [
      "Ttest_indResult(statistic=4.657039151397429, pvalue=8.117836102155774e-05)\n"
     ]
    }
   ],
   "source": [
    "# Pop1 p = .3\n",
    "pop1 = np.random.gamma(10, 0.3, 10000)\n",
    "pop2 = np.random.gamma(10,0.5, 10000) \n",
    "\n",
    "sample1 = np.random.choice(pop1, 20, replace=True)\n",
    "sample2 = np.random.choice(pop2, 20, replace=True)\n",
    "\n",
    "from scipy.stats import ttest_ind\n",
    "print(ttest_ind(sample2, sample1, equal_var=False))"
   ]
  },
  {
   "cell_type": "code",
   "execution_count": null,
   "metadata": {},
   "outputs": [],
   "source": [
    "use Gamma distribution\n",
    "# Sample size 1000\n",
    "mean1:  3.0190556439983656\n",
    "mean2:  5.0046588053553025\n",
    "standard1:  0.949050890472955\n",
    "standard2:  1.603432721570148\n",
    "diff_sample1_2:  1.985603161356937\n",
    "Ttest_indResult(statistic=32.80005477154023, pvalue=1.437580338140222e-181)\n",
    "\n",
    "# Sample size 20    \n",
    "mean1:  3.0365267090523966\n",
    "mean2:  4.931741308939336\n",
    "standard1:  0.7615609569691818\n",
    "standard2:  1.3332407686653676\n",
    "diff_sample1_2:  1.8952145998869394\n",
    "Ttest_indResult(statistic=4.4773448635040305, pvalue=9.646624383002043e-05)"
   ]
  },
  {
   "cell_type": "markdown",
   "metadata": {},
   "source": [
    "3. The Central Limit Theorem says the statistics should still work as long as the sample size is large enough, \n",
    "   no matter what distribution is chosen"
   ]
  },
  {
   "cell_type": "markdown",
   "metadata": {},
   "source": [
    "p-value \n",
    "    -This tells us how likely it is that we would get the sampling data we observe if the two population means were not, in fact, different from one another. \n",
    "    -The lower the p-value, the more confidently we can conclude that there is a meaningful difference between the means of the two groups in the population.\n",
    "The t-value \n",
    "    -scales the difference between the two groups by the amount of variance in the two samples.\n",
    "    -One way to interpret a t-value is as the number of standard errors worth of space separating the group means. A t-value of 2 would indicate that the means are two standard errors apart."
   ]
  }
 ],
 "metadata": {
  "kernelspec": {
   "display_name": "Python 3",
   "language": "python",
   "name": "python3"
  },
  "language_info": {
   "codemirror_mode": {
    "name": "ipython",
    "version": 3
   },
   "file_extension": ".py",
   "mimetype": "text/x-python",
   "name": "python",
   "nbconvert_exporter": "python",
   "pygments_lexer": "ipython3",
   "version": "3.7.1"
  }
 },
 "nbformat": 4,
 "nbformat_minor": 2
}
