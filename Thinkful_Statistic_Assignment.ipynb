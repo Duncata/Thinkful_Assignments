{
  "nbformat": 4,
  "nbformat_minor": 0,
  "metadata": {
    "colab": {
      "name": "Thinkful_Statistic_Assignment.ipynb",
      "version": "0.3.2",
      "provenance": [],
      "collapsed_sections": [],
      "include_colab_link": true
    },
    "kernelspec": {
      "name": "python3",
      "display_name": "Python 3"
    },
    "accelerator": "GPU"
  },
  "cells": [
    {
      "cell_type": "markdown",
      "metadata": {
        "id": "view-in-github",
        "colab_type": "text"
      },
      "source": [
        "<a href=\"https://colab.research.google.com/github/Duncata/Thinkful_Assignments/blob/master/Thinkful_Statistic_Assignment.ipynb\" target=\"_parent\"><img src=\"https://colab.research.google.com/assets/colab-badge.svg\" alt=\"Open In Colab\"/></a>"
      ]
    },
    {
      "metadata": {
        "id": "VUPZNa05vbfo",
        "colab_type": "text"
      },
      "cell_type": "markdown",
      "source": [
        "### Drill - Describing Data\n",
        "1. Greg was 14, Marcia was 12, Peter was 11, Jan was 10, Bobby was 8, and Cindy was 6 when they started playing the Brady kids on The Brady Bunch. Cousin Oliver was 8 years old when he joined the show. What are the mean, median, and mode of the kids' ages when they first appeared on the show? What are the variance, standard deviation, and standard error?\n",
        "\n",
        "2. Using these estimates, if you had to choose only one estimate of central tendency and one estimate of variance to describe the data, which would you pick and why?\n",
        "\n",
        "3. Next, Cindy has a birthday. Update your estimates- what changed, and what didn't?\n",
        "\n",
        "4. Nobody likes Cousin Oliver. Maybe the network should have used an even younger actor. Replace Cousin Oliver with 1-year-old Jessica, then recalculate again. Does this change your choice of central tendency or variance estimation methods?\n",
        "\n",
        "5. On the 50th anniversary of The Brady Bunch, four different magazines asked their readers whether they were fans of the show. The answers were: TV Guide 20% fans Entertainment Weekly 23% fans Pop Culture Today 17% fans SciPhi Phanatic 5% fans\n",
        "\n",
        "6. Based on these numbers, what percentage of adult Americans would you estimate were Brady Bunch fans on the 50th anniversary of the show?"
      ]
    },
    {
      "metadata": {
        "id": "75zzTCbM0bq-",
        "colab_type": "text"
      },
      "cell_type": "markdown",
      "source": [
        "### Answer of queation 1"
      ]
    },
    {
      "metadata": {
        "id": "ih5MDjvQuibQ",
        "colab_type": "code",
        "outputId": "6df11936-e79f-4d3e-f42c-685476783e9e",
        "colab": {
          "base_uri": "https://localhost:8080/",
          "height": 105
        }
      },
      "cell_type": "code",
      "source": [
        "\n",
        "\n",
        "import numpy as np\n",
        "ages =[14,12,11,10,8,6,8]\n",
        "\n",
        "def statistic(ages):\n",
        "    print(\"mean of age: \",np.mean(ages))\n",
        "    print(\"median of age: \",np.median(ages))\n",
        "    print(\"variance of age: \",np.var(ages))\n",
        "    print(\"std. deviation of age: \",np.std(ages))\n",
        "    \n",
        "statistic(ages)\n",
        "print(\"Mode is ages: 8\")"
      ],
      "execution_count": 0,
      "outputs": [
        {
          "output_type": "stream",
          "text": [
            "mean of age:  9.857142857142858\n",
            "median of age:  10.0\n",
            "variance of age:  6.408163265306122\n",
            "std. deviation of age:  2.531435020952764\n",
            "Mode is ages: 8\n"
          ],
          "name": "stdout"
        }
      ]
    },
    {
      "metadata": {
        "id": "HNtnGDsoxabZ",
        "colab_type": "text"
      },
      "cell_type": "markdown",
      "source": [
        "### Answer of question 2 \n",
        "\n",
        "We can choose mean or standard deviation for they are close in value."
      ]
    },
    {
      "metadata": {
        "id": "pGX8scAT0m8p",
        "colab_type": "text"
      },
      "cell_type": "markdown",
      "source": [
        "### Answer of queation 3"
      ]
    },
    {
      "metadata": {
        "id": "_5SbrJsOuijk",
        "colab_type": "code",
        "outputId": "388cf070-7483-4e7f-9328-cb1a39e70e47",
        "colab": {
          "base_uri": "https://localhost:8080/",
          "height": 193
        }
      },
      "cell_type": "code",
      "source": [
        "# Answer of queation 3\n",
        "\n",
        "ages3 =[14,12,11,10,8,7,1]\n",
        "statistic(ages3)\n",
        "print(\"There is no mode\")\n",
        "  \n",
        "statistic(ages2)\n",
        "print(\"Mode is 8\")\n",
        " "
      ],
      "execution_count": 0,
      "outputs": [
        {
          "output_type": "stream",
          "text": [
            "mean of age:  9.0\n",
            "median of age:  10.0\n",
            "variance of age:  15.428571428571429\n",
            "std. deviation of age:  3.927922024247863\n",
            "There is no mode\n",
            "mean of age:  9.0\n",
            "median of age:  10.0\n",
            "variance of age:  15.428571428571429\n",
            "std. deviation of age:  3.927922024247863\n",
            "Mode is 8\n"
          ],
          "name": "stdout"
        }
      ]
    },
    {
      "metadata": {
        "id": "8tzQJzZNyF3w",
        "colab_type": "text"
      },
      "cell_type": "markdown",
      "source": [
        "median & mode didn't change. \n",
        "mean, variance, standard deviation, and standard error change a little. "
      ]
    },
    {
      "metadata": {
        "id": "li_Z6JNn0v-T",
        "colab_type": "text"
      },
      "cell_type": "markdown",
      "source": [
        "### Answer of queation 4\n",
        "\n",
        "use median, mean diverge due to outlier number 1"
      ]
    },
    {
      "metadata": {
        "id": "2NNmj6ZWuipv",
        "colab_type": "code",
        "outputId": "ad60752c-0bfc-498e-c836-5cec48d581fd",
        "colab": {
          "base_uri": "https://localhost:8080/",
          "height": 105
        }
      },
      "cell_type": "code",
      "source": [
        "\n",
        "ages3 =[14,12,11,10,8,7,1]\n",
        "statistic(ages3)\n",
        "print(\"There is no mode\")\n",
        "\n"
      ],
      "execution_count": 0,
      "outputs": [
        {
          "output_type": "stream",
          "text": [
            "mean of age:  9.0\n",
            "median of age:  10.0\n",
            "variance of age:  15.428571428571429\n",
            "std. deviation of age:  3.927922024247863\n",
            "There is no mode\n"
          ],
          "name": "stdout"
        }
      ]
    },
    {
      "metadata": {
        "id": "p4Dg0ZVsz1eZ",
        "colab_type": "text"
      },
      "cell_type": "markdown",
      "source": [
        "### Answer of queation 5 & 6\n",
        "(.20+.23+.17)/3 = .20 0r 20% approximately\n",
        "\n",
        "SciPhi Fanatic is different and a special interest magazine for scifi\n",
        "\n",
        "whereas the others are more general and representa better sample\n",
        "\n",
        "so we average those three."
      ]
    }
  ]
}