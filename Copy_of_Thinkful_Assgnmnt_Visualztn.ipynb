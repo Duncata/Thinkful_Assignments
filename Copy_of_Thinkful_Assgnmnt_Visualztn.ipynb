{
  "nbformat": 4,
  "nbformat_minor": 0,
  "metadata": {
    "colab": {
      "name": "Copy of Thinkful_Assgnmnt_Visualztn.ipynb",
      "version": "0.3.2",
      "provenance": [],
      "include_colab_link": true
    },
    "kernelspec": {
      "name": "python3",
      "display_name": "Python 3"
    },
    "accelerator": "GPU"
  },
  "cells": [
    {
      "cell_type": "markdown",
      "metadata": {
        "id": "view-in-github",
        "colab_type": "text"
      },
      "source": [
        "<a href=\"https://colab.research.google.com/github/Duncata/Thinkful_Assignments/blob/master/Copy_of_Thinkful_Assgnmnt_Visualztn.ipynb\" target=\"_parent\"><img src=\"https://colab.research.google.com/assets/colab-badge.svg\" alt=\"Open In Colab\"/></a>"
      ]
    },
    {
      "metadata": {
        "id": "6JQwTEgvVy7L",
        "colab_type": "code",
        "colab": {}
      },
      "cell_type": "code",
      "source": [
        "import pandas as pd\n",
        "import numpy as np\n",
        "\n",
        "import matplotlib.pyplot as plt\n",
        "%matplotlib inline"
      ],
      "execution_count": 0,
      "outputs": []
    },
    {
      "metadata": {
        "id": "jUElmupTnRKD",
        "colab_type": "text"
      },
      "cell_type": "markdown",
      "source": [
        " file path to Duncata/Thinkful_Assignments/prep_course/224.ipynb"
      ]
    },
    {
      "metadata": {
        "id": "lyTWqJgiZ4nB",
        "colab_type": "text"
      },
      "cell_type": "markdown",
      "source": [
        "## Annual Power Capacity in California"
      ]
    },
    {
      "metadata": {
        "id": "P6Y0GN--aCdQ",
        "colab_type": "code",
        "colab": {}
      },
      "cell_type": "code",
      "source": [
        "from google.colab import files\n"
      ],
      "execution_count": 0,
      "outputs": []
    },
    {
      "metadata": {
        "id": "_eo2PD2PaSDs",
        "colab_type": "code",
        "outputId": "e24c28a0-346c-4f4d-b807-73d5a7e8e00e",
        "colab": {
          "resources": {
            "http://localhost:8080/nbextensions/google.colab/files.js": {
              "data": "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",
              "ok": true,
              "headers": [
                [
                  "content-type",
                  "application/javascript"
                ]
              ],
              "status": 200,
              "status_text": ""
            }
          },
          "base_uri": "https://localhost:8080/",
          "height": 214
        }
      },
      "cell_type": "code",
      "source": [
        "uploaded = files.upload()"
      ],
      "execution_count": 0,
      "outputs": [
        {
          "output_type": "display_data",
          "data": {
            "text/html": [
              "\n",
              "     <input type=\"file\" id=\"files-4780171c-a8a2-45d5-974a-c65fee5ebf9a\" name=\"files[]\" multiple disabled />\n",
              "     <output id=\"result-4780171c-a8a2-45d5-974a-c65fee5ebf9a\">\n",
              "      Upload widget is only available when the cell has been executed in the\n",
              "      current browser session. Please rerun this cell to enable.\n",
              "      </output>\n",
              "      <script src=\"/nbextensions/google.colab/files.js\"></script> "
            ],
            "text/plain": [
              "<IPython.core.display.HTML object>"
            ]
          },
          "metadata": {
            "tags": []
          }
        },
        {
          "output_type": "stream",
          "text": [
            "Saving annual-capacity-california.csv to annual-capacity-california.csv\n",
            "Saving annual-customers-california.csv to annual-customers-california.csv\n",
            "Saving annual-price-california-vs-usa.csv to annual-price-california-vs-usa.csv\n",
            "Saving annual-revenue-california.csv to annual-revenue-california.csv\n",
            "Saving annual-sales-california.csv to annual-sales-california.csv\n"
          ],
          "name": "stdout"
        }
      ]
    },
    {
      "metadata": {
        "id": "brier5lSXBC9",
        "colab_type": "code",
        "outputId": "86947ed6-114d-4acd-cd93-a5f8e98952cf",
        "colab": {
          "base_uri": "https://localhost:8080/",
          "height": 306
        }
      },
      "cell_type": "code",
      "source": [
        "df_capacity= pd.read_csv(\"annual-capacity-california.csv\")\n",
        "df_capacity.head()\n"
      ],
      "execution_count": 0,
      "outputs": [
        {
          "output_type": "execute_result",
          "data": {
            "text/html": [
              "<div>\n",
              "<style scoped>\n",
              "    .dataframe tbody tr th:only-of-type {\n",
              "        vertical-align: middle;\n",
              "    }\n",
              "\n",
              "    .dataframe tbody tr th {\n",
              "        vertical-align: top;\n",
              "    }\n",
              "\n",
              "    .dataframe thead th {\n",
              "        text-align: right;\n",
              "    }\n",
              "</style>\n",
              "<table border=\"1\" class=\"dataframe\">\n",
              "  <thead>\n",
              "    <tr style=\"text-align: right;\">\n",
              "      <th></th>\n",
              "      <th>Year</th>\n",
              "      <th>State Code</th>\n",
              "      <th>Producer Type</th>\n",
              "      <th>Fuel Source</th>\n",
              "      <th>Generators</th>\n",
              "      <th>Facilities</th>\n",
              "      <th>Nameplate Capacity (Megawatts)</th>\n",
              "      <th>Summer Capacity (Megawatts)</th>\n",
              "    </tr>\n",
              "  </thead>\n",
              "  <tbody>\n",
              "    <tr>\n",
              "      <th>0</th>\n",
              "      <td>1990</td>\n",
              "      <td>CA</td>\n",
              "      <td>Total Electric Power Industry</td>\n",
              "      <td>All Sources</td>\n",
              "      <td>NaN</td>\n",
              "      <td>739.0</td>\n",
              "      <td>55025.84</td>\n",
              "      <td>53215.03</td>\n",
              "    </tr>\n",
              "    <tr>\n",
              "      <th>1</th>\n",
              "      <td>1991</td>\n",
              "      <td>CA</td>\n",
              "      <td>Total Electric Power Industry</td>\n",
              "      <td>All Sources</td>\n",
              "      <td>NaN</td>\n",
              "      <td>731.0</td>\n",
              "      <td>55293.64</td>\n",
              "      <td>53444.40</td>\n",
              "    </tr>\n",
              "    <tr>\n",
              "      <th>2</th>\n",
              "      <td>1992</td>\n",
              "      <td>CA</td>\n",
              "      <td>Total Electric Power Industry</td>\n",
              "      <td>All Sources</td>\n",
              "      <td>NaN</td>\n",
              "      <td>748.0</td>\n",
              "      <td>55284.19</td>\n",
              "      <td>53696.18</td>\n",
              "    </tr>\n",
              "    <tr>\n",
              "      <th>3</th>\n",
              "      <td>1993</td>\n",
              "      <td>CA</td>\n",
              "      <td>Total Electric Power Industry</td>\n",
              "      <td>All Sources</td>\n",
              "      <td>NaN</td>\n",
              "      <td>753.0</td>\n",
              "      <td>56054.06</td>\n",
              "      <td>54405.14</td>\n",
              "    </tr>\n",
              "    <tr>\n",
              "      <th>4</th>\n",
              "      <td>1994</td>\n",
              "      <td>CA</td>\n",
              "      <td>Total Electric Power Industry</td>\n",
              "      <td>All Sources</td>\n",
              "      <td>NaN</td>\n",
              "      <td>758.0</td>\n",
              "      <td>55250.53</td>\n",
              "      <td>53456.43</td>\n",
              "    </tr>\n",
              "  </tbody>\n",
              "</table>\n",
              "</div>"
            ],
            "text/plain": [
              "   Year State Code                  Producer Type  Fuel Source  Generators  \\\n",
              "0  1990         CA  Total Electric Power Industry  All Sources         NaN   \n",
              "1  1991         CA  Total Electric Power Industry  All Sources         NaN   \n",
              "2  1992         CA  Total Electric Power Industry  All Sources         NaN   \n",
              "3  1993         CA  Total Electric Power Industry  All Sources         NaN   \n",
              "4  1994         CA  Total Electric Power Industry  All Sources         NaN   \n",
              "\n",
              "   Facilities  Nameplate Capacity (Megawatts)  Summer Capacity (Megawatts)  \n",
              "0       739.0                        55025.84                     53215.03  \n",
              "1       731.0                        55293.64                     53444.40  \n",
              "2       748.0                        55284.19                     53696.18  \n",
              "3       753.0                        56054.06                     54405.14  \n",
              "4       758.0                        55250.53                     53456.43  "
            ]
          },
          "metadata": {
            "tags": []
          },
          "execution_count": 5
        }
      ]
    },
    {
      "metadata": {
        "id": "QylH7XjTXBAL",
        "colab_type": "code",
        "outputId": "7dc0472d-85e7-4953-c267-e7fab459041d",
        "colab": {
          "base_uri": "https://localhost:8080/",
          "height": 313
        }
      },
      "cell_type": "code",
      "source": [
        "#We can see in the line plot that demand of electricity during summer is steady from year 1990 to 2000 \n",
        "#and continously increase beginning year 2000 to 2015.\n",
        "\n",
        "df_capacity.groupby('Year')['Summer Capacity (Megawatts)'].sum()\n",
        "plt.plot(df_capacity.groupby('Year')['Summer Capacity (Megawatts)'].sum())\n",
        "plt.ylabel('Megawatt Capacity')\n",
        "plt.xlabel('Year')\n",
        "plt.title('California Yearly Total Electric Consumption')"
      ],
      "execution_count": 0,
      "outputs": [
        {
          "output_type": "execute_result",
          "data": {
            "text/plain": [
              "Text(0.5, 1.0, 'California Yearly Total Electric Consumption')"
            ]
          },
          "metadata": {
            "tags": []
          },
          "execution_count": 6
        },
        {
          "output_type": "display_data",
          "data": {
            "image/png": "[encoded data removed]",
            "text/plain": [
              "<Figure size 432x288 with 1 Axes>"
            ]
          },
          "metadata": {
            "tags": []
          }
        }
      ]
    },
    {
      "metadata": {
        "id": "s2y6M-e0an7t",
        "colab_type": "text"
      },
      "cell_type": "markdown",
      "source": [
        "## Annual Number of Customers in California"
      ]
    },
    {
      "metadata": {
        "id": "aeaSCcHDXA6h",
        "colab_type": "code",
        "outputId": "36aa6ed4-9c43-4fcb-ce73-4aea63802015",
        "colab": {
          "base_uri": "https://localhost:8080/",
          "height": 203
        }
      },
      "cell_type": "code",
      "source": [
        "df_cus= pd.read_csv(\"annual-customers-california.csv\")\n",
        "df_cus.head()"
      ],
      "execution_count": 0,
      "outputs": [
        {
          "output_type": "execute_result",
          "data": {
            "text/html": [
              "<div>\n",
              "<style scoped>\n",
              "    .dataframe tbody tr th:only-of-type {\n",
              "        vertical-align: middle;\n",
              "    }\n",
              "\n",
              "    .dataframe tbody tr th {\n",
              "        vertical-align: top;\n",
              "    }\n",
              "\n",
              "    .dataframe thead th {\n",
              "        text-align: right;\n",
              "    }\n",
              "</style>\n",
              "<table border=\"1\" class=\"dataframe\">\n",
              "  <thead>\n",
              "    <tr style=\"text-align: right;\">\n",
              "      <th></th>\n",
              "      <th>Year</th>\n",
              "      <th>State</th>\n",
              "      <th>Industry Sector Category</th>\n",
              "      <th>Residential</th>\n",
              "      <th>Commercial</th>\n",
              "      <th>Industrial</th>\n",
              "      <th>Transportation</th>\n",
              "      <th>Other</th>\n",
              "      <th>Total</th>\n",
              "    </tr>\n",
              "  </thead>\n",
              "  <tbody>\n",
              "    <tr>\n",
              "      <th>0</th>\n",
              "      <td>2015</td>\n",
              "      <td>CA</td>\n",
              "      <td>Total Electric Industry</td>\n",
              "      <td>13380684</td>\n",
              "      <td>1685688</td>\n",
              "      <td>148069</td>\n",
              "      <td>13.0</td>\n",
              "      <td>NaN</td>\n",
              "      <td>15214454</td>\n",
              "    </tr>\n",
              "    <tr>\n",
              "      <th>1</th>\n",
              "      <td>2014</td>\n",
              "      <td>CA</td>\n",
              "      <td>Total Electric Industry</td>\n",
              "      <td>13256068</td>\n",
              "      <td>1676201</td>\n",
              "      <td>146944</td>\n",
              "      <td>13.0</td>\n",
              "      <td>NaN</td>\n",
              "      <td>15079226</td>\n",
              "    </tr>\n",
              "    <tr>\n",
              "      <th>2</th>\n",
              "      <td>2013</td>\n",
              "      <td>CA</td>\n",
              "      <td>Total Electric Industry</td>\n",
              "      <td>13256426</td>\n",
              "      <td>1691627</td>\n",
              "      <td>159483</td>\n",
              "      <td>13.0</td>\n",
              "      <td>NaN</td>\n",
              "      <td>15107549</td>\n",
              "    </tr>\n",
              "    <tr>\n",
              "      <th>3</th>\n",
              "      <td>2012</td>\n",
              "      <td>CA</td>\n",
              "      <td>Total Electric Industry</td>\n",
              "      <td>13101887</td>\n",
              "      <td>1834779</td>\n",
              "      <td>73805</td>\n",
              "      <td>12.0</td>\n",
              "      <td>NaN</td>\n",
              "      <td>15010483</td>\n",
              "    </tr>\n",
              "    <tr>\n",
              "      <th>4</th>\n",
              "      <td>2011</td>\n",
              "      <td>CA</td>\n",
              "      <td>Total Electric Industry</td>\n",
              "      <td>13002980</td>\n",
              "      <td>1818049</td>\n",
              "      <td>73297</td>\n",
              "      <td>13.0</td>\n",
              "      <td>NaN</td>\n",
              "      <td>14894339</td>\n",
              "    </tr>\n",
              "  </tbody>\n",
              "</table>\n",
              "</div>"
            ],
            "text/plain": [
              "   Year State Industry Sector Category  Residential  Commercial  Industrial  \\\n",
              "0  2015    CA  Total Electric Industry     13380684     1685688      148069   \n",
              "1  2014    CA  Total Electric Industry     13256068     1676201      146944   \n",
              "2  2013    CA  Total Electric Industry     13256426     1691627      159483   \n",
              "3  2012    CA  Total Electric Industry     13101887     1834779       73805   \n",
              "4  2011    CA  Total Electric Industry     13002980     1818049       73297   \n",
              "\n",
              "   Transportation  Other     Total  \n",
              "0            13.0    NaN  15214454  \n",
              "1            13.0    NaN  15079226  \n",
              "2            13.0    NaN  15107549  \n",
              "3            12.0    NaN  15010483  \n",
              "4            13.0    NaN  14894339  "
            ]
          },
          "metadata": {
            "tags": []
          },
          "execution_count": 8
        }
      ]
    },
    {
      "metadata": {
        "id": "HBSTNM_Yaz_p",
        "colab_type": "text"
      },
      "cell_type": "markdown",
      "source": [
        "### Line Plot of Number of Customers"
      ]
    },
    {
      "metadata": {
        "id": "iQ72S4bzXA0h",
        "colab_type": "code",
        "outputId": "c6eda7e0-2706-476a-bdf9-a980fbb914d8",
        "colab": {
          "base_uri": "https://localhost:8080/",
          "height": 350
        }
      },
      "cell_type": "code",
      "source": [
        "\n",
        "#Commercial visualization shows that it increase but have up and down years, a decrease from 1993 t0o 2001\n",
        "#and increase from 2003 to 2004, drop in 20a12.\n",
        "\n",
        "#Industrial visualization shows that it little and stagnant increase from 1990 to 2011, Sudden increase in 2012.\n",
        "\n",
        "#Over all Total customer is almost the same w/ residential visualization shows that it increase from 1990 to 2015, \n",
        "#a little drop from year 2000.\n",
        "\n",
        "\n",
        "plt.figure(figsize=(10, 5))\n",
        "\n",
        "plt.subplot(2,2,1)\n",
        "plt.plot(df_cus.set_index('Year')['Residential'], color='purple')\n",
        "plt.ylabel('Values')\n",
        "plt.xlabel('Year')\n",
        "plt.title('Residential Anual Customers')\n",
        "\n",
        "plt.subplot(2,2,2)\n",
        "plt.plot(df_cus.set_index('Year')['Commercial'], color='green')\n",
        "plt.ylabel('Values')\n",
        "plt.xlabel('Year')\n",
        "plt.title('Commercial Anual Customers')\n",
        "\n",
        "\n",
        "plt.subplot(2,2,3)\n",
        "plt.plot(df_cus.set_index('Year')['Industrial'], color= 'yellow')\n",
        "plt.ylabel('Values')\n",
        "plt.xlabel('Year')\n",
        "plt.title('Industrial Anual Customers')   \n",
        "\n",
        "plt.subplot(2,2,4)\n",
        "plt.plot(df_cus.set_index('Year')['Total'], color= 'pink')\n",
        "plt.ylabel('Values')\n",
        "plt.xlabel('Year')\n",
        "plt.title('Total Anual Customers') \n",
        "\n",
        "plt.show()"
      ],
      "execution_count": 0,
      "outputs": [
        {
          "output_type": "display_data",
          "data": {
            "image/png": "[encoded data removed]",
            "text/plain": [
              "<Figure size 720x360 with 4 Axes>"
            ]
          },
          "metadata": {
            "tags": []
          }
        }
      ]
    },
    {
      "metadata": {
        "id": "aYrKt6BSbCFv",
        "colab_type": "text"
      },
      "cell_type": "markdown",
      "source": [
        "## Annual Power Prices in California "
      ]
    },
    {
      "metadata": {
        "id": "Wy8C4DB2XAuU",
        "colab_type": "code",
        "outputId": "62306436-69a2-4143-ffd8-61ae2909f996",
        "colab": {
          "base_uri": "https://localhost:8080/",
          "height": 203
        }
      },
      "cell_type": "code",
      "source": [
        "df_price= pd.read_csv(\"annual-price-california-vs-usa.csv\")\n",
        "df_price.head()"
      ],
      "execution_count": 0,
      "outputs": [
        {
          "output_type": "execute_result",
          "data": {
            "text/html": [
              "<div>\n",
              "<style scoped>\n",
              "    .dataframe tbody tr th:only-of-type {\n",
              "        vertical-align: middle;\n",
              "    }\n",
              "\n",
              "    .dataframe tbody tr th {\n",
              "        vertical-align: top;\n",
              "    }\n",
              "\n",
              "    .dataframe thead th {\n",
              "        text-align: right;\n",
              "    }\n",
              "</style>\n",
              "<table border=\"1\" class=\"dataframe\">\n",
              "  <thead>\n",
              "    <tr style=\"text-align: right;\">\n",
              "      <th></th>\n",
              "      <th>Year</th>\n",
              "      <th>State</th>\n",
              "      <th>Industry Sector Category</th>\n",
              "      <th>Residential</th>\n",
              "      <th>Commercial</th>\n",
              "      <th>Industrial</th>\n",
              "      <th>Transportation</th>\n",
              "      <th>Other</th>\n",
              "      <th>Total</th>\n",
              "      <th>Total (2015 dollars)</th>\n",
              "    </tr>\n",
              "  </thead>\n",
              "  <tbody>\n",
              "    <tr>\n",
              "      <th>0</th>\n",
              "      <td>1990</td>\n",
              "      <td>CA</td>\n",
              "      <td>Total Electric Industry</td>\n",
              "      <td>9.98</td>\n",
              "      <td>9.46</td>\n",
              "      <td>7.28</td>\n",
              "      <td>NaN</td>\n",
              "      <td>4.53</td>\n",
              "      <td>8.84</td>\n",
              "      <td>16.034839</td>\n",
              "    </tr>\n",
              "    <tr>\n",
              "      <th>1</th>\n",
              "      <td>1991</td>\n",
              "      <td>CA</td>\n",
              "      <td>Total Electric Industry</td>\n",
              "      <td>10.79</td>\n",
              "      <td>10.04</td>\n",
              "      <td>7.58</td>\n",
              "      <td>NaN</td>\n",
              "      <td>5.05</td>\n",
              "      <td>9.42</td>\n",
              "      <td>16.395602</td>\n",
              "    </tr>\n",
              "    <tr>\n",
              "      <th>2</th>\n",
              "      <td>1992</td>\n",
              "      <td>CA</td>\n",
              "      <td>Total Electric Industry</td>\n",
              "      <td>11.07</td>\n",
              "      <td>10.33</td>\n",
              "      <td>7.59</td>\n",
              "      <td>NaN</td>\n",
              "      <td>5.54</td>\n",
              "      <td>9.66</td>\n",
              "      <td>16.317102</td>\n",
              "    </tr>\n",
              "    <tr>\n",
              "      <th>3</th>\n",
              "      <td>1993</td>\n",
              "      <td>CA</td>\n",
              "      <td>Total Electric Industry</td>\n",
              "      <td>11.30</td>\n",
              "      <td>10.46</td>\n",
              "      <td>7.33</td>\n",
              "      <td>NaN</td>\n",
              "      <td>5.05</td>\n",
              "      <td>9.69</td>\n",
              "      <td>15.895691</td>\n",
              "    </tr>\n",
              "    <tr>\n",
              "      <th>4</th>\n",
              "      <td>1994</td>\n",
              "      <td>CA</td>\n",
              "      <td>Total Electric Industry</td>\n",
              "      <td>11.43</td>\n",
              "      <td>10.90</td>\n",
              "      <td>7.09</td>\n",
              "      <td>NaN</td>\n",
              "      <td>5.00</td>\n",
              "      <td>9.78</td>\n",
              "      <td>15.637443</td>\n",
              "    </tr>\n",
              "  </tbody>\n",
              "</table>\n",
              "</div>"
            ],
            "text/plain": [
              "   Year State Industry Sector Category  Residential  Commercial  Industrial  \\\n",
              "0  1990    CA  Total Electric Industry         9.98        9.46        7.28   \n",
              "1  1991    CA  Total Electric Industry        10.79       10.04        7.58   \n",
              "2  1992    CA  Total Electric Industry        11.07       10.33        7.59   \n",
              "3  1993    CA  Total Electric Industry        11.30       10.46        7.33   \n",
              "4  1994    CA  Total Electric Industry        11.43       10.90        7.09   \n",
              "\n",
              "   Transportation  Other  Total  Total (2015 dollars)  \n",
              "0             NaN   4.53   8.84             16.034839  \n",
              "1             NaN   5.05   9.42             16.395602  \n",
              "2             NaN   5.54   9.66             16.317102  \n",
              "3             NaN   5.05   9.69             15.895691  \n",
              "4             NaN   5.00   9.78             15.637443  "
            ]
          },
          "metadata": {
            "tags": []
          },
          "execution_count": 10
        }
      ]
    },
    {
      "metadata": {
        "id": "iZycrIBwbNN5",
        "colab_type": "text"
      },
      "cell_type": "markdown",
      "source": [
        "### Scatter Plot of Prices"
      ]
    },
    {
      "metadata": {
        "id": "L6CAzHEmXAo1",
        "colab_type": "code",
        "outputId": "71ff74e8-9d14-46dd-efb4-c2f111601f83",
        "colab": {
          "base_uri": "https://localhost:8080/",
          "height": 281
        }
      },
      "cell_type": "code",
      "source": [
        "#Shows in the scatter plot that as Residential increase, the Commercial increase, \n",
        "#same to with the Res and Ind or Com and Ind.\n",
        "\n",
        "plt.scatter(x=df_price['Residential'], y=df_price['Commercial'], color='purple')\n",
        "plt.title('Scatter Plot of Price and Sale') \n",
        "plt.scatter(x=df_price['Residential'], y=df_price['Industrial'], color='green')\n",
        "plt.scatter(x=df_price['Commercial'], y=df_price['Industrial'], color='red')\n",
        "\n",
        "plt.show()"
      ],
      "execution_count": 0,
      "outputs": [
        {
          "output_type": "display_data",
          "data": {
            "image/png": "[encoded data removed]",
            "text/plain": [
              "<Figure size 432x288 with 1 Axes>"
            ]
          },
          "metadata": {
            "tags": []
          }
        }
      ]
    },
    {
      "metadata": {
        "id": "6hA71KyzbVKF",
        "colab_type": "text"
      },
      "cell_type": "markdown",
      "source": [
        "## Annual Power Revenue in California"
      ]
    },
    {
      "metadata": {
        "id": "1pgwD6DMXAiz",
        "colab_type": "code",
        "outputId": "56aca63d-5398-4fa5-8cbf-a132d8b059dc",
        "colab": {
          "base_uri": "https://localhost:8080/",
          "height": 220
        }
      },
      "cell_type": "code",
      "source": [
        "df_rev= pd.read_csv(\"annual-revenue-california.csv\")\n",
        "df_rev.head()"
      ],
      "execution_count": 0,
      "outputs": [
        {
          "output_type": "execute_result",
          "data": {
            "text/html": [
              "<div>\n",
              "<style scoped>\n",
              "    .dataframe tbody tr th:only-of-type {\n",
              "        vertical-align: middle;\n",
              "    }\n",
              "\n",
              "    .dataframe tbody tr th {\n",
              "        vertical-align: top;\n",
              "    }\n",
              "\n",
              "    .dataframe thead th {\n",
              "        text-align: right;\n",
              "    }\n",
              "</style>\n",
              "<table border=\"1\" class=\"dataframe\">\n",
              "  <thead>\n",
              "    <tr style=\"text-align: right;\">\n",
              "      <th></th>\n",
              "      <th>Year</th>\n",
              "      <th>State</th>\n",
              "      <th>Industry Sector Category</th>\n",
              "      <th>Residential</th>\n",
              "      <th>Commercial</th>\n",
              "      <th>Industrial</th>\n",
              "      <th>Transportation</th>\n",
              "      <th>Other</th>\n",
              "      <th>Total</th>\n",
              "      <th>Residential (2015 dollars)</th>\n",
              "    </tr>\n",
              "  </thead>\n",
              "  <tbody>\n",
              "    <tr>\n",
              "      <th>0</th>\n",
              "      <td>2015</td>\n",
              "      <td>CA</td>\n",
              "      <td>Total Electric Industry</td>\n",
              "      <td>15187827</td>\n",
              "      <td>18627081</td>\n",
              "      <td>6394328</td>\n",
              "      <td>75346.0</td>\n",
              "      <td>NaN</td>\n",
              "      <td>40284581</td>\n",
              "      <td>1.518783e+07</td>\n",
              "    </tr>\n",
              "    <tr>\n",
              "      <th>1</th>\n",
              "      <td>2014</td>\n",
              "      <td>CA</td>\n",
              "      <td>Total Electric Industry</td>\n",
              "      <td>14517393</td>\n",
              "      <td>18663231</td>\n",
              "      <td>6525678</td>\n",
              "      <td>74025.0</td>\n",
              "      <td>NaN</td>\n",
              "      <td>39780326</td>\n",
              "      <td>1.453506e+07</td>\n",
              "    </tr>\n",
              "    <tr>\n",
              "      <th>2</th>\n",
              "      <td>2013</td>\n",
              "      <td>CA</td>\n",
              "      <td>Total Electric Industry</td>\n",
              "      <td>14481054</td>\n",
              "      <td>16597851</td>\n",
              "      <td>6222066</td>\n",
              "      <td>71337.0</td>\n",
              "      <td>NaN</td>\n",
              "      <td>37372308</td>\n",
              "      <td>1.473206e+07</td>\n",
              "    </tr>\n",
              "    <tr>\n",
              "      <th>3</th>\n",
              "      <td>2012</td>\n",
              "      <td>CA</td>\n",
              "      <td>Total Electric Industry</td>\n",
              "      <td>13821565</td>\n",
              "      <td>16327164</td>\n",
              "      <td>4925482</td>\n",
              "      <td>49095.0</td>\n",
              "      <td>NaN</td>\n",
              "      <td>35123306</td>\n",
              "      <td>1.426703e+07</td>\n",
              "    </tr>\n",
              "    <tr>\n",
              "      <th>4</th>\n",
              "      <td>2011</td>\n",
              "      <td>CA</td>\n",
              "      <td>Total Electric Industry</td>\n",
              "      <td>13060946</td>\n",
              "      <td>16018054</td>\n",
              "      <td>5046467</td>\n",
              "      <td>67248.0</td>\n",
              "      <td>NaN</td>\n",
              "      <td>34192715</td>\n",
              "      <td>1.376181e+07</td>\n",
              "    </tr>\n",
              "  </tbody>\n",
              "</table>\n",
              "</div>"
            ],
            "text/plain": [
              "   Year State Industry Sector Category  Residential  Commercial  Industrial  \\\n",
              "0  2015    CA  Total Electric Industry     15187827    18627081     6394328   \n",
              "1  2014    CA  Total Electric Industry     14517393    18663231     6525678   \n",
              "2  2013    CA  Total Electric Industry     14481054    16597851     6222066   \n",
              "3  2012    CA  Total Electric Industry     13821565    16327164     4925482   \n",
              "4  2011    CA  Total Electric Industry     13060946    16018054     5046467   \n",
              "\n",
              "   Transportation  Other     Total  Residential (2015 dollars)  \n",
              "0         75346.0    NaN  40284581                1.518783e+07  \n",
              "1         74025.0    NaN  39780326                1.453506e+07  \n",
              "2         71337.0    NaN  37372308                1.473206e+07  \n",
              "3         49095.0    NaN  35123306                1.426703e+07  \n",
              "4         67248.0    NaN  34192715                1.376181e+07  "
            ]
          },
          "metadata": {
            "tags": []
          },
          "execution_count": 12
        }
      ]
    },
    {
      "metadata": {
        "id": "JcHTmrrLbbul",
        "colab_type": "text"
      },
      "cell_type": "markdown",
      "source": [
        "### Pie Plot of Revenue"
      ]
    },
    {
      "metadata": {
        "id": "nblGhoaYXAZ6",
        "colab_type": "code",
        "outputId": "c2189437-7a00-429e-befa-9cc1f5b89fa6",
        "colab": {
          "base_uri": "https://localhost:8080/",
          "height": 35
        }
      },
      "cell_type": "code",
      "source": [
        "#get the int sum of res, com, trans\n",
        "res= df_rev.Residential.sum()\n",
        "com= df_rev.Commercial.sum()\n",
        "ind= df_rev.Industrial.sum()\n",
        "trans= df_rev.Transportation.sum()\n",
        "print(res, com, ind, trans)"
      ],
      "execution_count": 0,
      "outputs": [
        {
          "output_type": "stream",
          "text": [
            "271430199 324125562 125092300 832449.0\n"
          ],
          "name": "stdout"
        }
      ]
    },
    {
      "metadata": {
        "id": "mOUdNWxPXAWX",
        "colab_type": "code",
        "outputId": "927e29d4-9cd4-4fc4-d307-1b51a775cdad",
        "colab": {
          "base_uri": "https://localhost:8080/",
          "height": 256
        }
      },
      "cell_type": "code",
      "source": [
        "#The biggest annual revenue is commercial users 44.9%, then Residential 37.6%, Industrial 17.3%, Transportation 0.1% in order.\n",
        "\n",
        "labels = 'Res', 'Com', 'Ind', 'Trans'\n",
        "sizes = [271430199, 324125562 , 125092300, 832449]\n",
        "explode = (0.1, 0.1, 0.1, 0.1)  # \"explode\" all slice\n",
        "\n",
        "fig1, ax1 = plt.subplots()\n",
        "ax1.pie(sizes, explode=explode, labels=labels, autopct='%1.1f%%',\n",
        "        shadow=True, startangle=90)\n",
        "ax1.axis('equal')  # Equal aspect ratio ensures that pie is drawn as a circle.\n",
        "\n",
        "plt.show()"
      ],
      "execution_count": 0,
      "outputs": [
        {
          "output_type": "display_data",
          "data": {
            "image/png": "[encoded data removed]",
            "text/plain": [
              "<Figure size 432x288 with 1 Axes>"
            ]
          },
          "metadata": {
            "tags": []
          }
        }
      ]
    },
    {
      "metadata": {
        "id": "1BAtjxcAbjKi",
        "colab_type": "text"
      },
      "cell_type": "markdown",
      "source": [
        "## Annual Power Sales in California"
      ]
    },
    {
      "metadata": {
        "id": "RSu_-Xa4XAOx",
        "colab_type": "code",
        "outputId": "d384c705-572d-4118-da10-8bb253a61416",
        "colab": {
          "base_uri": "https://localhost:8080/",
          "height": 203
        }
      },
      "cell_type": "code",
      "source": [
        "df_sale= pd.read_csv(\"annual-sales-california.csv\")\n",
        "df_sale.head()"
      ],
      "execution_count": 0,
      "outputs": [
        {
          "output_type": "execute_result",
          "data": {
            "text/html": [
              "<div>\n",
              "<style scoped>\n",
              "    .dataframe tbody tr th:only-of-type {\n",
              "        vertical-align: middle;\n",
              "    }\n",
              "\n",
              "    .dataframe tbody tr th {\n",
              "        vertical-align: top;\n",
              "    }\n",
              "\n",
              "    .dataframe thead th {\n",
              "        text-align: right;\n",
              "    }\n",
              "</style>\n",
              "<table border=\"1\" class=\"dataframe\">\n",
              "  <thead>\n",
              "    <tr style=\"text-align: right;\">\n",
              "      <th></th>\n",
              "      <th>Year</th>\n",
              "      <th>State</th>\n",
              "      <th>Industry Sector Category</th>\n",
              "      <th>Residential</th>\n",
              "      <th>Commercial</th>\n",
              "      <th>Industrial</th>\n",
              "      <th>Transportation</th>\n",
              "      <th>Other</th>\n",
              "      <th>Total</th>\n",
              "      <th>Business</th>\n",
              "    </tr>\n",
              "  </thead>\n",
              "  <tbody>\n",
              "    <tr>\n",
              "      <th>0</th>\n",
              "      <td>1990</td>\n",
              "      <td>CA</td>\n",
              "      <td>Total Electric Industry</td>\n",
              "      <td>66574670</td>\n",
              "      <td>79691297</td>\n",
              "      <td>55891513</td>\n",
              "      <td>NaN</td>\n",
              "      <td>8935442.0</td>\n",
              "      <td>211092922</td>\n",
              "      <td>144518252</td>\n",
              "    </tr>\n",
              "    <tr>\n",
              "      <th>1</th>\n",
              "      <td>1991</td>\n",
              "      <td>CA</td>\n",
              "      <td>Total Electric Industry</td>\n",
              "      <td>66016700</td>\n",
              "      <td>78424653</td>\n",
              "      <td>56191047</td>\n",
              "      <td>NaN</td>\n",
              "      <td>8018089.0</td>\n",
              "      <td>208650489</td>\n",
              "      <td>142633789</td>\n",
              "    </tr>\n",
              "    <tr>\n",
              "      <th>2</th>\n",
              "      <td>1992</td>\n",
              "      <td>CA</td>\n",
              "      <td>Total Electric Industry</td>\n",
              "      <td>68121106</td>\n",
              "      <td>80234568</td>\n",
              "      <td>57089510</td>\n",
              "      <td>NaN</td>\n",
              "      <td>8002057.0</td>\n",
              "      <td>213447241</td>\n",
              "      <td>145326135</td>\n",
              "    </tr>\n",
              "    <tr>\n",
              "      <th>3</th>\n",
              "      <td>1993</td>\n",
              "      <td>CA</td>\n",
              "      <td>Total Electric Industry</td>\n",
              "      <td>67358692</td>\n",
              "      <td>79058161</td>\n",
              "      <td>56189186</td>\n",
              "      <td>NaN</td>\n",
              "      <td>7893887.0</td>\n",
              "      <td>210499926</td>\n",
              "      <td>143141234</td>\n",
              "    </tr>\n",
              "    <tr>\n",
              "      <th>4</th>\n",
              "      <td>1994</td>\n",
              "      <td>CA</td>\n",
              "      <td>Total Electric Industry</td>\n",
              "      <td>68866355</td>\n",
              "      <td>76924502</td>\n",
              "      <td>59863696</td>\n",
              "      <td>NaN</td>\n",
              "      <td>8029749.0</td>\n",
              "      <td>213684302</td>\n",
              "      <td>144817947</td>\n",
              "    </tr>\n",
              "  </tbody>\n",
              "</table>\n",
              "</div>"
            ],
            "text/plain": [
              "   Year State Industry Sector Category  Residential  Commercial  Industrial  \\\n",
              "0  1990    CA  Total Electric Industry     66574670    79691297    55891513   \n",
              "1  1991    CA  Total Electric Industry     66016700    78424653    56191047   \n",
              "2  1992    CA  Total Electric Industry     68121106    80234568    57089510   \n",
              "3  1993    CA  Total Electric Industry     67358692    79058161    56189186   \n",
              "4  1994    CA  Total Electric Industry     68866355    76924502    59863696   \n",
              "\n",
              "   Transportation      Other      Total   Business  \n",
              "0             NaN  8935442.0  211092922  144518252  \n",
              "1             NaN  8018089.0  208650489  142633789  \n",
              "2             NaN  8002057.0  213447241  145326135  \n",
              "3             NaN  7893887.0  210499926  143141234  \n",
              "4             NaN  8029749.0  213684302  144817947  "
            ]
          },
          "metadata": {
            "tags": []
          },
          "execution_count": 15
        }
      ]
    },
    {
      "metadata": {
        "id": "6ZCMqGhWXAKQ",
        "colab_type": "code",
        "colab": {}
      },
      "cell_type": "code",
      "source": [
        "### Bar Plot of Power Sales"
      ],
      "execution_count": 0,
      "outputs": []
    },
    {
      "metadata": {
        "id": "iOSXdrtrbxTN",
        "colab_type": "text"
      },
      "cell_type": "markdown",
      "source": [
        "### Bar Plot of Power Sales"
      ]
    },
    {
      "metadata": {
        "id": "dHwFvRSnYcfn",
        "colab_type": "code",
        "outputId": "17d28e39-5121-4c2d-ae7c-a25fef9e4377",
        "colab": {
          "base_uri": "https://localhost:8080/",
          "height": 383
        }
      },
      "cell_type": "code",
      "source": [
        "#In the bar plot, It shown in orange that the number 1 in sale is Commercial and has \n",
        "#steady in sale from 1990 to 1999 and rises from 2000 to 2004, steady again from 2005 to 2015.\n",
        "\n",
        "#2nd in sale is Residential in blue, a little bit rise from 2000 to 2015.\n",
        "\n",
        "#3rd in sale is Industrial in green, steady sale from 1990 to 2001, drop in sale in 2002 and almost same sale till 2015. \n",
        "\n",
        "\n",
        "\n",
        "df_sales = df_sale[['Year','Residential','Commercial','Industrial']]\n",
        "sales = df_sales.groupby('Year').sum().plot(kind='bar', figsize=[15, 5])\n",
        "plt.title('Bar Plot of Power Sales')\n",
        "sales"
      ],
      "execution_count": 0,
      "outputs": [
        {
          "output_type": "execute_result",
          "data": {
            "text/plain": [
              "<matplotlib.axes._subplots.AxesSubplot at 0x7f0956459be0>"
            ]
          },
          "metadata": {
            "tags": []
          },
          "execution_count": 17
        },
        {
          "output_type": "display_data",
          "data": {
            "image/png": "[encoded data removed]",
            "text/plain": [
              "<Figure size 1080x360 with 1 Axes>"
            ]
          },
          "metadata": {
            "tags": []
          }
        }
      ]
    },
    {
      "metadata": {
        "id": "Ah0Rx_eDYccl",
        "colab_type": "code",
        "colab": {}
      },
      "cell_type": "code",
      "source": [
        "### Boxplot of all total"
      ],
      "execution_count": 0,
      "outputs": []
    },
    {
      "metadata": {
        "id": "Uj7DJyLOb2cr",
        "colab_type": "text"
      },
      "cell_type": "markdown",
      "source": [
        "### Boxplot of all total"
      ]
    },
    {
      "metadata": {
        "id": "gNRKK-70YcZY",
        "colab_type": "code",
        "outputId": "96a9ca60-842b-42a5-eb90-71f81fdf2a5f",
        "colab": {
          "base_uri": "https://localhost:8080/",
          "height": 336
        }
      },
      "cell_type": "code",
      "source": [
        "#Shows in the boxplot is that there is no outlier from the data column  Summer Capacity, Total Anual Price, \n",
        "#Total Anual Revenue, Total Anual Sales. In Summer Capacity Median is in the w/in the 57K, \n",
        "#25% of the data value w/in 52K to 53K, 50% of the value w/in 53K to 57K, 75% of the value w/in 57K to 65K, \n",
        "#75% of the value w/in 57K to 65K, 100% of the value w/in 65K to 74K. We can estimate the IQR for the others \n",
        "#in the boxplot shown or we can compute the exact values from pandas or numpy package.\n",
        "\n",
        "\n",
        "\n",
        "plt.figure(figsize=(10, 5))\n",
        "\n",
        "plt.subplot(2,2,1)\n",
        "plt.boxplot(df_capacity['Summer Capacity (Megawatts)'])\n",
        "plt.title('Annual Summer Capacity')\n",
        "\n",
        "\n",
        "plt.subplot(2,2,2)\n",
        "plt.boxplot(df_price['Total'])\n",
        "plt.title('Total Anual Price')\n",
        "\n",
        "\n",
        "\n",
        "plt.subplot(2,2,3)\n",
        "plt.boxplot(df_rev['Total'])\n",
        "plt.title('Total Anual Revenue')   \n",
        "\n",
        "\n",
        "plt.subplot(2,2,4)\n",
        "plt.boxplot(df_sale['Total'])\n",
        "plt.title('Total Anual Sales') \n",
        "\n",
        "plt.show()\n"
      ],
      "execution_count": 0,
      "outputs": [
        {
          "output_type": "display_data",
          "data": {
            "image/png": "[encoded data removed]",
            "text/plain": [
              "<Figure size 720x360 with 4 Axes>"
            ]
          },
          "metadata": {
            "tags": []
          }
        }
      ]
    },
    {
      "metadata": {
        "id": "4gy-uAvNb-kF",
        "colab_type": "text"
      },
      "cell_type": "markdown",
      "source": [
        "### Histogram of all total"
      ]
    },
    {
      "metadata": {
        "id": "efDD7N-QYcTG",
        "colab_type": "code",
        "outputId": "55cfd2bb-3d58-484f-b2a7-d47a0386206b",
        "colab": {
          "base_uri": "https://localhost:8080/",
          "height": 349
        }
      },
      "cell_type": "code",
      "source": [
        "#The histogram shows how common those values are or how frequent the data shown in the bin.\n",
        "\n",
        "\n",
        "plt.figure(figsize=(10, 5))\n",
        "\n",
        "plt.subplot(2,2,1)\n",
        "plt.hist(df_capacity['Summer Capacity (Megawatts)'])\n",
        "plt.xlabel('Frequency')\n",
        "plt.title('Annual Summer Capacity')\n",
        "\n",
        "\n",
        "plt.subplot(2,2,2)\n",
        "plt.hist(df_price['Total'])\n",
        "plt.xlabel('Frequency')\n",
        "plt.title('Total Anual Price')\n",
        "\n",
        "\n",
        "\n",
        "plt.subplot(2,2,3)\n",
        "plt.hist(df_rev['Total'])\n",
        "plt.xlabel('Frequency')\n",
        "plt.title('Total Anual Revenue')   \n",
        "\n",
        "\n",
        "plt.subplot(2,2,4)\n",
        "plt.hist(df_sale['Total'])\n",
        "plt.xlabel('Frequency')\n",
        "plt.title('Total Anual Sales') \n",
        "\n",
        "plt.show()"
      ],
      "execution_count": 0,
      "outputs": [
        {
          "output_type": "display_data",
          "data": {
            "image/png": "[encoded data removed]",
            "text/plain": [
              "<Figure size 720x360 with 4 Axes>"
            ]
          },
          "metadata": {
            "tags": []
          }
        }
      ]
    },
    {
      "metadata": {
        "id": "ftlH7mEFYcPx",
        "colab_type": "code",
        "colab": {}
      },
      "cell_type": "code",
      "source": [
        ""
      ],
      "execution_count": 0,
      "outputs": []
    }
  ]
}